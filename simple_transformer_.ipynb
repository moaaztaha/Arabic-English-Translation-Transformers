{
 "cells": [
  {
   "cell_type": "code",
   "execution_count": 1,
   "id": "0R53kjrYGpSc",
   "metadata": {
    "colab": {
     "base_uri": "https://localhost:8080/"
    },
    "id": "0R53kjrYGpSc",
    "outputId": "e120dfc2-3129-4b72-a9b3-08d54ef307b5",
    "scrolled": true
   },
   "outputs": [
    {
     "name": "stdout",
     "output_type": "stream",
     "text": [
      "Cloning into 'Arabic-English-Translation-Transformers'...\n",
      "remote: Enumerating objects: 8, done.\u001b[K\n",
      "remote: Counting objects: 100% (8/8), done.\u001b[K\n",
      "remote: Compressing objects: 100% (6/6), done.\u001b[K\n",
      "remote: Total 8 (delta 0), reused 8 (delta 0), pack-reused 0\u001b[K\n",
      "Unpacking objects: 100% (8/8), done.\n"
     ]
    }
   ],
   "source": [
    "!git clone https://github.com/moaaztaha/Arabic-English-Translation-Transformers"
   ]
  },
  {
   "cell_type": "code",
   "execution_count": 3,
   "id": "e9e97fa1",
   "metadata": {
    "id": "e9e97fa1"
   },
   "outputs": [],
   "source": [
    "# modules\n",
    "import random\n",
    "import string\n",
    "import re\n",
    "from pathlib import Path\n",
    "import numpy as np\n",
    "import tensorflow as tf\n",
    "from tensorflow import keras\n",
    "from tensorflow.keras import layers\n",
    "from tensorflow.keras.layers.experimental.preprocessing import TextVectorization"
   ]
  },
  {
   "cell_type": "markdown",
   "id": "1710411f",
   "metadata": {
    "id": "1710411f"
   },
   "source": [
    "### Data Preprocessing "
   ]
  },
  {
   "cell_type": "code",
   "execution_count": 11,
   "id": "1RNDMX9cizGW",
   "metadata": {
    "colab": {
     "base_uri": "https://localhost:8080/",
     "height": 204
    },
    "id": "1RNDMX9cizGW",
    "outputId": "24aaab3e-5b5f-4e8b-c250-875175dd5592"
   },
   "outputs": [],
   "source": [
    "import pandas as pd\n",
    "# df = pd.read_csv(\"/content/Arabic-English-Translation-Transformers/ara_eng.txt\",delimiter=\"\\t\",names=[\"eng\",\"ar\"])\n",
    "# df.head()\n",
    "\n",
    "df_ar = pd.read_table('data/ara/test.en_ref.ar', names=['arabic'], encoding='utf-8')\n",
    "df_en = pd.read_table('data/eng/ac-test.en', names=['english'])"
   ]
  },
  {
   "cell_type": "code",
   "execution_count": 12,
   "id": "c4850beb",
   "metadata": {},
   "outputs": [
    {
     "name": "stdout",
     "output_type": "stream",
     "text": [
      "(3964, 1)\n"
     ]
    },
    {
     "data": {
      "text/html": [
       "<div>\n",
       "<style scoped>\n",
       "    .dataframe tbody tr th:only-of-type {\n",
       "        vertical-align: middle;\n",
       "    }\n",
       "\n",
       "    .dataframe tbody tr th {\n",
       "        vertical-align: top;\n",
       "    }\n",
       "\n",
       "    .dataframe thead th {\n",
       "        text-align: right;\n",
       "    }\n",
       "</style>\n",
       "<table border=\"1\" class=\"dataframe\">\n",
       "  <thead>\n",
       "    <tr style=\"text-align: right;\">\n",
       "      <th></th>\n",
       "      <th>arabic</th>\n",
       "    </tr>\n",
       "  </thead>\n",
       "  <tbody>\n",
       "    <tr>\n",
       "      <th>0</th>\n",
       "      <td>مجلس الجماعة الاقتصادية الأوروبية</td>\n",
       "    </tr>\n",
       "    <tr>\n",
       "      <th>1</th>\n",
       "      <td>حيث أن اعتماد سياسة نقل مشتركة تنطوي من بين أم...</td>\n",
       "    </tr>\n",
       "    <tr>\n",
       "      <th>2</th>\n",
       "      <td>المادة 1</td>\n",
       "    </tr>\n",
       "    <tr>\n",
       "      <th>3</th>\n",
       "      <td>3. لا تخضع أنواع النقل المدرجة في الملحق الثان...</td>\n",
       "    </tr>\n",
       "    <tr>\n",
       "      <th>4</th>\n",
       "      <td>تبلغ الدول الأعضاء المفوضية الأوروبية بالتدابي...</td>\n",
       "    </tr>\n",
       "  </tbody>\n",
       "</table>\n",
       "</div>"
      ],
      "text/plain": [
       "                                              arabic\n",
       "0                  مجلس الجماعة الاقتصادية الأوروبية\n",
       "1  حيث أن اعتماد سياسة نقل مشتركة تنطوي من بين أم...\n",
       "2                                           المادة 1\n",
       "3  3. لا تخضع أنواع النقل المدرجة في الملحق الثان...\n",
       "4  تبلغ الدول الأعضاء المفوضية الأوروبية بالتدابي..."
      ]
     },
     "execution_count": 12,
     "metadata": {},
     "output_type": "execute_result"
    }
   ],
   "source": [
    "print(df_ar.shape)\n",
    "df_ar.head()"
   ]
  },
  {
   "cell_type": "code",
   "execution_count": 13,
   "id": "0d800c35",
   "metadata": {},
   "outputs": [
    {
     "name": "stdout",
     "output_type": "stream",
     "text": [
      "(4046, 1)\n"
     ]
    },
    {
     "data": {
      "text/html": [
       "<div>\n",
       "<style scoped>\n",
       "    .dataframe tbody tr th:only-of-type {\n",
       "        vertical-align: middle;\n",
       "    }\n",
       "\n",
       "    .dataframe tbody tr th {\n",
       "        vertical-align: top;\n",
       "    }\n",
       "\n",
       "    .dataframe thead th {\n",
       "        text-align: right;\n",
       "    }\n",
       "</style>\n",
       "<table border=\"1\" class=\"dataframe\">\n",
       "  <thead>\n",
       "    <tr style=\"text-align: right;\">\n",
       "      <th></th>\n",
       "      <th>english</th>\n",
       "    </tr>\n",
       "  </thead>\n",
       "  <tbody>\n",
       "    <tr>\n",
       "      <th>0</th>\n",
       "      <td>THE COUNCIL OF THE EUROPEAN ECONOMIC COMMUNITY,</td>\n",
       "    </tr>\n",
       "    <tr>\n",
       "      <th>1</th>\n",
       "      <td>Whereas the adoption of a common transport pol...</td>\n",
       "    </tr>\n",
       "    <tr>\n",
       "      <th>2</th>\n",
       "      <td>Article 1</td>\n",
       "    </tr>\n",
       "    <tr>\n",
       "      <th>3</th>\n",
       "      <td>3. The types of carriage listed in Annex II sh...</td>\n",
       "    </tr>\n",
       "    <tr>\n",
       "      <th>4</th>\n",
       "      <td>Member States shall inform the Commission of t...</td>\n",
       "    </tr>\n",
       "  </tbody>\n",
       "</table>\n",
       "</div>"
      ],
      "text/plain": [
       "                                             english\n",
       "0    THE COUNCIL OF THE EUROPEAN ECONOMIC COMMUNITY,\n",
       "1  Whereas the adoption of a common transport pol...\n",
       "2                                          Article 1\n",
       "3  3. The types of carriage listed in Annex II sh...\n",
       "4  Member States shall inform the Commission of t..."
      ]
     },
     "execution_count": 13,
     "metadata": {},
     "output_type": "execute_result"
    }
   ],
   "source": [
    "print(df_en.shape)\n",
    "df_en.head()"
   ]
  },
  {
   "cell_type": "code",
   "execution_count": 14,
   "id": "bd44861e",
   "metadata": {},
   "outputs": [
    {
     "data": {
      "text/html": [
       "<div>\n",
       "<style scoped>\n",
       "    .dataframe tbody tr th:only-of-type {\n",
       "        vertical-align: middle;\n",
       "    }\n",
       "\n",
       "    .dataframe tbody tr th {\n",
       "        vertical-align: top;\n",
       "    }\n",
       "\n",
       "    .dataframe thead th {\n",
       "        text-align: right;\n",
       "    }\n",
       "</style>\n",
       "<table border=\"1\" class=\"dataframe\">\n",
       "  <thead>\n",
       "    <tr style=\"text-align: right;\">\n",
       "      <th></th>\n",
       "      <th>arabic</th>\n",
       "    </tr>\n",
       "  </thead>\n",
       "  <tbody>\n",
       "    <tr>\n",
       "      <th>3959</th>\n",
       "      <td>باعتبار الطلب الذي تقدمت به لوكسمبورغ في 25 تم...</td>\n",
       "    </tr>\n",
       "    <tr>\n",
       "      <th>3960</th>\n",
       "      <td>(2) يجب أن يتم منح هذه الاستثناءات إلى النمسا ...</td>\n",
       "    </tr>\n",
       "    <tr>\n",
       "      <th>3961</th>\n",
       "      <td>المادة 1</td>\n",
       "    </tr>\n",
       "    <tr>\n",
       "      <th>3962</th>\n",
       "      <td>(ب) تمنح فرنسا الاستثناءات للحصول على النتائج ...</td>\n",
       "    </tr>\n",
       "    <tr>\n",
       "      <th>3963</th>\n",
       "      <td>بعد انتهاء الفترة الانتقالية، تقوم النمسا وفرن...</td>\n",
       "    </tr>\n",
       "  </tbody>\n",
       "</table>\n",
       "</div>"
      ],
      "text/plain": [
       "                                                 arabic\n",
       "3959  باعتبار الطلب الذي تقدمت به لوكسمبورغ في 25 تم...\n",
       "3960  (2) يجب أن يتم منح هذه الاستثناءات إلى النمسا ...\n",
       "3961                                           المادة 1\n",
       "3962  (ب) تمنح فرنسا الاستثناءات للحصول على النتائج ...\n",
       "3963  بعد انتهاء الفترة الانتقالية، تقوم النمسا وفرن..."
      ]
     },
     "execution_count": 14,
     "metadata": {},
     "output_type": "execute_result"
    }
   ],
   "source": [
    "df_ar.tail()"
   ]
  },
  {
   "cell_type": "code",
   "execution_count": 15,
   "id": "fc504532",
   "metadata": {},
   "outputs": [
    {
     "data": {
      "text/html": [
       "<div>\n",
       "<style scoped>\n",
       "    .dataframe tbody tr th:only-of-type {\n",
       "        vertical-align: middle;\n",
       "    }\n",
       "\n",
       "    .dataframe tbody tr th {\n",
       "        vertical-align: top;\n",
       "    }\n",
       "\n",
       "    .dataframe thead th {\n",
       "        text-align: right;\n",
       "    }\n",
       "</style>\n",
       "<table border=\"1\" class=\"dataframe\">\n",
       "  <thead>\n",
       "    <tr style=\"text-align: right;\">\n",
       "      <th></th>\n",
       "      <th>english</th>\n",
       "    </tr>\n",
       "  </thead>\n",
       "  <tbody>\n",
       "    <tr>\n",
       "      <th>4041</th>\n",
       "      <td>Having regard to the request made by Luxembour...</td>\n",
       "    </tr>\n",
       "    <tr>\n",
       "      <th>4042</th>\n",
       "      <td>(2) Such derogations should be granted, at the...</td>\n",
       "    </tr>\n",
       "    <tr>\n",
       "      <th>4043</th>\n",
       "      <td>Article 1</td>\n",
       "    </tr>\n",
       "    <tr>\n",
       "      <th>4044</th>\n",
       "      <td>(b) France is granted derogations for the prod...</td>\n",
       "    </tr>\n",
       "    <tr>\n",
       "      <th>4045</th>\n",
       "      <td>After expiry of the transitional period, Austr...</td>\n",
       "    </tr>\n",
       "  </tbody>\n",
       "</table>\n",
       "</div>"
      ],
      "text/plain": [
       "                                                english\n",
       "4041  Having regard to the request made by Luxembour...\n",
       "4042  (2) Such derogations should be granted, at the...\n",
       "4043                                          Article 1\n",
       "4044  (b) France is granted derogations for the prod...\n",
       "4045  After expiry of the transitional period, Austr..."
      ]
     },
     "execution_count": 15,
     "metadata": {},
     "output_type": "execute_result"
    }
   ],
   "source": [
    "df_en.tail()"
   ]
  },
  {
   "cell_type": "code",
   "execution_count": 37,
   "id": "4ccf1385",
   "metadata": {},
   "outputs": [
    {
     "name": "stdout",
     "output_type": "stream",
     "text": [
      "Article 6a\n",
      "2. All ro-ro passenger ships of Classes A and B, the keel of which is laid or which are at a similar stage of construction before 1 October 2004 shall comply with Articles 6, 8 and 9 of Directive 2003/25/EC by 1 October 2010, unless they are phased out on that date or on a later date on which they reach the age of 30 years but in any case not later than 1 October 2015.\n",
      "1. Member States shall ensure that appropriate measures are taken, based, where practicable, on the guidelines in Annex III to enable persons with reduced mobility to have safe access to all passenger ships of Classes A, B, C and D and to all high-speed passenger craft, used for public transport, the keel of which is laid or which are at a similar stage of construction on or after 1 October 2004.\n",
      "Member States shall draw up a national action plan on how the guidelines shall be applied to such ships and craft. They shall forward that plan to the Commission not later than 17 May 2005.\n",
      "Article 2\n",
      "Member States shall bring into force the laws, regulations and administrative provisions necessary to comply with this Directive before 17 November 2004. They shall forthwith inform the Commission thereof.\n",
      "Commission Directive 2003/26/EC\n",
      "(Text with EEA relevance)\n",
      "Having regard to Directive 2000/30/EC of the European Parliament and of the Council of 6 June 2000 on the technical roadside inspection of the roadworthiness of commercial vehicles circulating in the Community(1), and in particular Article 8 thereof,\n",
      "(2) The field of roadworthiness testing is embraced by Council Directive 96/96/EC of 20 December 1996 on the approximation of the laws of the Member States relating to roadworthiness tests for motor vehicles and their trailers(2), as last amended by Commission Directive 2001/11/EC(3), which covers regular roadworthiness testing, and by Directive 2000/30/EC, which applies to the roadside inspections of heavy commercial vehicles for their roadworthiness. Both Directives use the same Committee and the same procedure for technical adaptations.\n",
      "HAS ADOPTED THIS DIRECTIVE:\n",
      "Article 2\n",
      "2. Member States shall communicate to the Commission the texts of the provisions of national law that they adopt in the field governed by this Directive.\n",
      "of 8 May 2003\n",
      "Having regard to the Treaty establishing the European Community, and in particular Article 175(1) thereof,\n",
      "Having regard to the opinion of the Committee of the Regions(3),\n",
      "(1) The European Council meeting at Gothenburg on 15 and 16 June 2001 agreed on a Community strategy for sustainable development consisting in a set of measures, which include the development of biofuels.\n",
      "(4) The transport sector accounts for more than 30 % of final energy consumption in the Community and is expanding, a trend which is bound to increase, along with carbon dioxide emissions and this expansion will be greater in percentage terms in the candidate countries following their accession to the European Union.\n",
      "(7) Increased use of biofuels for transport, without ruling out other possible alternative fuels, including automotive LPG and CNG, is one of the tools by which the Community can reduce its dependence on imported energy and influence the fuel market for transport and hence the security of energy supply in the medium and long term. However, this consideration should not detract in any way from the importance of compliance with Community legislation on fuel quality, vehicle emissions and air quality.\n",
      "(10) Promoting the use of biofuels in transport constitutes a step towards a wider application of biomass which will enable biofuel to be more extensively developed in the future, whilst not excluding other options and, in particular, the hydrogen option.\n",
      "(13) New types of fuel should conform to recognised technical standards if they are to be accepted to a greater extent by customers and vehicle manufacturers and hence penetrate the market. Technical standards also form the basis for requirements concerning emissions and the monitoring of emissions. Difficulties may be encountered in ensuring that new types of fuel meet current technical standards, which, to a large extent, have been developed for conventional fossil fuels. The Commission and standardisation bodies should monitor developments and adapt and develop actively standards, particularly volatility aspects, so that new types of fuel can be introduced, whilst maintaining environmental performance requirements.\n",
      "(16) In its resolution of 8 June 1998(5), the Council endorsed the Commission's strategy and action plan for renewable energy sources and requested specific measures in the biofuels sector.\n",
      "(19) In its resolution of 18 June 1998(6), the European Parliament called for an increase in the market share of biofuels to 2 % over five years through a package of measures, including tax exemption, financial assistance for the processing industry and the establishment of a compulsory rate of biofuels for oil companies.\n",
      "(22) Promotion of the production and use of biofuels could contribute to a reduction in energy import dependency and in emissions of greenhouse gases. In addition, biofuels, in pure form or as a blend, may in principle be used in existing motor vehicles and use the current motor vehicle fuel distribution system. The blending of biofuel with fossil fuels could facilitate a potential cost reduction in the distribution system in the Community.\n",
      "(25) An increase in the use of biofuels should be accompanied by a detailed analysis of the environmental, economic and social impact in order to decide whether it is advisable to increase the proportion of biofuels in relation to conventional fuels.\n",
      "(28) Encouragement of the promotion of biofuels should be consistent with security of supply and environmental objectives and related policy objectives and measures within each Member State. In doing so, Member States may consider cost-effective ways of publicising the possibilities of using biofuels.\n",
      "Article 1\n",
      "1. For the purpose of this Directive, the following definitions shall apply:\n",
      "(c) other renewable fuels\" means renewable fuels, other than biofuels, which originate from renewable energy sources as defined in Directive 2001/77/EC(8) and used for transport purposes;\n",
      "(ج) تعني \"مصادر الطاقة المتجددة الأخرى\" مصادر الوقود المتجددة، وغيرها من أنواع الوقود الحيوي، التي تأتي من مصادر الطاقة المتجددة على النحو المحدد في التوجيه رقم 2001/77 (8)، وتستخدم لأغراض النقل؛\n",
      "84\n",
      "__________________________________________________\n"
     ]
    }
   ],
   "source": [
    "for i in range(df_en.shape[0]):\n",
    "  if abs(len(df_en.english.iloc[-i].split()) - len(df_ar.arabic.iloc[-i].split())) > 30:\n",
    "    print(df_en.english.iloc[-i]) \n",
    "    print(df_ar.arabic.iloc[-i])\n",
    "    print(i)\n",
    "    print(\"_\"*50)\n",
    "    break"
   ]
  },
  {
   "cell_type": "code",
   "execution_count": 46,
   "id": "3945032f",
   "metadata": {},
   "outputs": [
    {
     "data": {
      "text/html": [
       "<div>\n",
       "<style scoped>\n",
       "    .dataframe tbody tr th:only-of-type {\n",
       "        vertical-align: middle;\n",
       "    }\n",
       "\n",
       "    .dataframe tbody tr th {\n",
       "        vertical-align: top;\n",
       "    }\n",
       "\n",
       "    .dataframe thead th {\n",
       "        text-align: right;\n",
       "    }\n",
       "</style>\n",
       "<table border=\"1\" class=\"dataframe\">\n",
       "  <thead>\n",
       "    <tr style=\"text-align: right;\">\n",
       "      <th></th>\n",
       "      <th>english</th>\n",
       "    </tr>\n",
       "  </thead>\n",
       "  <tbody>\n",
       "    <tr>\n",
       "      <th>65</th>\n",
       "      <td>Article 11</td>\n",
       "    </tr>\n",
       "    <tr>\n",
       "      <th>66</th>\n",
       "      <td>Article 12</td>\n",
       "    </tr>\n",
       "    <tr>\n",
       "      <th>67</th>\n",
       "      <td>THE COUNCIL OF THE EUROPEAN COMMUNITIES,</td>\n",
       "    </tr>\n",
       "    <tr>\n",
       "      <th>68</th>\n",
       "      <td>Having regard to the Opinion of the European P...</td>\n",
       "    </tr>\n",
       "    <tr>\n",
       "      <th>69</th>\n",
       "      <td>Whereas it has become apparent, in the course ...</td>\n",
       "    </tr>\n",
       "    <tr>\n",
       "      <th>70</th>\n",
       "      <td>Whereas certain of the abovementioned Directiv...</td>\n",
       "    </tr>\n",
       "    <tr>\n",
       "      <th>71</th>\n",
       "      <td>HAS ADOPTED THIS DIRECTIVE:</td>\n",
       "    </tr>\n",
       "    <tr>\n",
       "      <th>72</th>\n",
       "      <td>G. Small EEC packages : packages containing th...</td>\n",
       "    </tr>\n",
       "    <tr>\n",
       "      <th>73</th>\n",
       "      <td>REGULATION (EEC) No 2777/75 OF THE COUNCIL of ...</td>\n",
       "    </tr>\n",
       "    <tr>\n",
       "      <th>74</th>\n",
       "      <td>Having regard to the proposal from the Commiss...</td>\n",
       "    </tr>\n",
       "  </tbody>\n",
       "</table>\n",
       "</div>"
      ],
      "text/plain": [
       "                                              english\n",
       "65                                         Article 11\n",
       "66                                         Article 12\n",
       "67           THE COUNCIL OF THE EUROPEAN COMMUNITIES,\n",
       "68  Having regard to the Opinion of the European P...\n",
       "69  Whereas it has become apparent, in the course ...\n",
       "70  Whereas certain of the abovementioned Directiv...\n",
       "71                        HAS ADOPTED THIS DIRECTIVE:\n",
       "72  G. Small EEC packages : packages containing th...\n",
       "73  REGULATION (EEC) No 2777/75 OF THE COUNCIL of ...\n",
       "74  Having regard to the proposal from the Commiss..."
      ]
     },
     "execution_count": 46,
     "metadata": {},
     "output_type": "execute_result"
    }
   ],
   "source": [
    "a, b = 65, 75\n",
    "df_en[a: b]"
   ]
  },
  {
   "cell_type": "code",
   "execution_count": 47,
   "id": "dc9cb119",
   "metadata": {},
   "outputs": [
    {
     "data": {
      "text/html": [
       "<div>\n",
       "<style scoped>\n",
       "    .dataframe tbody tr th:only-of-type {\n",
       "        vertical-align: middle;\n",
       "    }\n",
       "\n",
       "    .dataframe tbody tr th {\n",
       "        vertical-align: top;\n",
       "    }\n",
       "\n",
       "    .dataframe thead th {\n",
       "        text-align: right;\n",
       "    }\n",
       "</style>\n",
       "<table border=\"1\" class=\"dataframe\">\n",
       "  <thead>\n",
       "    <tr style=\"text-align: right;\">\n",
       "      <th></th>\n",
       "      <th>arabic</th>\n",
       "    </tr>\n",
       "  </thead>\n",
       "  <tbody>\n",
       "    <tr>\n",
       "      <th>65</th>\n",
       "      <td>المادة 11</td>\n",
       "    </tr>\n",
       "    <tr>\n",
       "      <th>66</th>\n",
       "      <td>المادة 12</td>\n",
       "    </tr>\n",
       "    <tr>\n",
       "      <th>67</th>\n",
       "      <td>مجلس الجماعات الأوروبية،</td>\n",
       "    </tr>\n",
       "    <tr>\n",
       "      <th>68</th>\n",
       "      <td>مع الأخذ في الاعتبار رأي البرلمان الأوروبي (1)؛</td>\n",
       "    </tr>\n",
       "    <tr>\n",
       "      <th>69</th>\n",
       "      <td>حيث أنه أصبح واضحاً، في سياق تطبيق التوجيهات، ...</td>\n",
       "    </tr>\n",
       "    <tr>\n",
       "      <th>70</th>\n",
       "      <td>حيث أن بعض التوجيهات السابق ذكرها تنص على أنه ...</td>\n",
       "    </tr>\n",
       "    <tr>\n",
       "      <th>71</th>\n",
       "      <td>قد اعتمدت هذا التوجيه:</td>\n",
       "    </tr>\n",
       "    <tr>\n",
       "      <th>72</th>\n",
       "      <td>رزم الجماعة الاقتصادية الأوروبية الصغيرة: تحتو...</td>\n",
       "    </tr>\n",
       "    <tr>\n",
       "      <th>73</th>\n",
       "      <td>2. تطلب الدول الأعضاء، ألا يتم إغلاق الرزم ثان...</td>\n",
       "    </tr>\n",
       "    <tr>\n",
       "      <th>74</th>\n",
       "      <td>4. يحل ما يلي محل القسم التمهيدي للمادة 11 (1):</td>\n",
       "    </tr>\n",
       "  </tbody>\n",
       "</table>\n",
       "</div>"
      ],
      "text/plain": [
       "                                               arabic\n",
       "65                                          المادة 11\n",
       "66                                          المادة 12\n",
       "67                           مجلس الجماعات الأوروبية،\n",
       "68    مع الأخذ في الاعتبار رأي البرلمان الأوروبي (1)؛\n",
       "69  حيث أنه أصبح واضحاً، في سياق تطبيق التوجيهات، ...\n",
       "70  حيث أن بعض التوجيهات السابق ذكرها تنص على أنه ...\n",
       "71                             قد اعتمدت هذا التوجيه:\n",
       "72  رزم الجماعة الاقتصادية الأوروبية الصغيرة: تحتو...\n",
       "73  2. تطلب الدول الأعضاء، ألا يتم إغلاق الرزم ثان...\n",
       "74    4. يحل ما يلي محل القسم التمهيدي للمادة 11 (1):"
      ]
     },
     "execution_count": 47,
     "metadata": {},
     "output_type": "execute_result"
    }
   ],
   "source": [
    "df_ar[a: b]"
   ]
  },
  {
   "cell_type": "code",
   "execution_count": 48,
   "id": "6e59e3f1",
   "metadata": {},
   "outputs": [
    {
     "data": {
      "text/plain": [
       "'رزم الجماعة الاقتصادية الأوروبية الصغيرة: تحتوي الرزم على البذور التالية المرخص لها – وهي البذور المفردة أو البذور الدقيقة التي لا تتعدى الـ100 000 عنقود أو حبة أو التي لا يتخطى وزنها الصافي 2.5 كيلوغرام باستثناء، عند الإقتضاء، المبيدات الحبيبية أو مواد التحبيب أو إضافات صلبة أخرى؛'"
      ]
     },
     "execution_count": 48,
     "metadata": {},
     "output_type": "execute_result"
    }
   ],
   "source": [
    "c = 72\n",
    "df_ar.iloc[c].arabic"
   ]
  },
  {
   "cell_type": "code",
   "execution_count": 50,
   "id": "90efbbc8",
   "metadata": {},
   "outputs": [
    {
     "data": {
      "text/plain": [
       "'2. تطلب الدول الأعضاء، ألا يتم إغلاق الرزم ثانيةً في حالة واحدة أو عدة حالات إلا إذا جرى ذلك رسمياً، وذلك باستثناء رزم الجماعة الاقتصادية الأوروبية الصغيرة. إذا تم إغلاق الرزم مجدداً، يتم ذكر إعادة الإغلاق وتاريخها والسلطة المسؤولة عنها على الشارة المطلوبة بموجب المادة 11 (1).'"
      ]
     },
     "execution_count": 50,
     "metadata": {},
     "output_type": "execute_result"
    }
   ],
   "source": [
    "df_ar.iloc[c+1].arabic"
   ]
  },
  {
   "cell_type": "code",
   "execution_count": 51,
   "id": "08e0d427",
   "metadata": {},
   "outputs": [
    {
     "data": {
      "text/plain": [
       "'4. يحل ما يلي محل القسم التمهيدي للمادة 11 (1):'"
      ]
     },
     "execution_count": 51,
     "metadata": {},
     "output_type": "execute_result"
    }
   ],
   "source": [
    "df_ar.iloc[c+2].arabic"
   ]
  },
  {
   "cell_type": "code",
   "execution_count": 52,
   "id": "e94e8b4f",
   "metadata": {},
   "outputs": [
    {
     "data": {
      "text/plain": [
       "'(ب) توفير استثناءات للفقرة 1 في حال الرزم الصغيرة للبذور الأساسية التي ذُكر عليها: \"نُقلت للتسويق في ... (الدول العضو المعنية) فقط\".'"
      ]
     },
     "execution_count": 52,
     "metadata": {},
     "output_type": "execute_result"
    }
   ],
   "source": [
    "df_ar.iloc[c+3].arabic"
   ]
  },
  {
   "cell_type": "code",
   "execution_count": 53,
   "id": "c5bab9d7",
   "metadata": {},
   "outputs": [
    {
     "data": {
      "text/plain": [
       "'نظام (اللجنة الإقتصادية الأوروبية) رقم 2777/75 للمجلس المؤرخ في 29 أكتوبر/تشرين الثاني 1975 بشأن التنظيم المشترك للسوق في مجال لحوم الدواجن'"
      ]
     },
     "execution_count": 53,
     "metadata": {},
     "output_type": "execute_result"
    }
   ],
   "source": [
    "df_ar.iloc[c+4].arabic"
   ]
  },
  {
   "cell_type": "code",
   "execution_count": 49,
   "id": "acd259bd",
   "metadata": {},
   "outputs": [
    {
     "data": {
      "text/plain": [
       "'G. Small EEC packages : packages containing the following certified seeds: - monogerm or precision seed : not exceeding 100 000 clusters or grains or a net weight of 2.5 kg excluding, where appropriate, granulated pesticides, pelleting substances or other solid additives;\\n2. Member States shall require that, except in the case of small EEC packages, packages shall not be resealed on one or more occasions unless this is done officially. If packages are resealed, the fact of resealing, the date of resealing and the authority responsible therefor shall be stated on the label required under Article 11 (1).\\n4. The following is to be substituted for the introductory section of Article 11 (1):\\n(b) provide for exceptions to paragraph 1 in the case of small packages of basic seed where they are marked : \"Passed for marketing in ... (Member State concerned) only\".\"'"
      ]
     },
     "execution_count": 49,
     "metadata": {},
     "output_type": "execute_result"
    }
   ],
   "source": [
    "df_en.iloc[c].english"
   ]
  },
  {
   "cell_type": "code",
   "execution_count": null,
   "id": "9ae7ed9a",
   "metadata": {},
   "outputs": [],
   "source": []
  },
  {
   "cell_type": "code",
   "execution_count": 17,
   "id": "m4aku8mEi7Xg",
   "metadata": {
    "colab": {
     "base_uri": "https://localhost:8080/"
    },
    "id": "m4aku8mEi7Xg",
    "outputId": "034d56b3-e97d-49ec-8032-8cebc912f63a",
    "scrolled": false
   },
   "outputs": [
    {
     "name": "stdout",
     "output_type": "stream",
     "text": [
      "Article 6a\n",
      "2. All ro-ro passenger ships of Classes A and B, the keel of which is laid or which are at a similar stage of construction before 1 October 2004 shall comply with Articles 6, 8 and 9 of Directive 2003/25/EC by 1 October 2010, unless they are phased out on that date or on a later date on which they reach the age of 30 years but in any case not later than 1 October 2015.\n",
      "1. Member States shall ensure that appropriate measures are taken, based, where practicable, on the guidelines in Annex III to enable persons with reduced mobility to have safe access to all passenger ships of Classes A, B, C and D and to all high-speed passenger craft, used for public transport, the keel of which is laid or which are at a similar stage of construction on or after 1 October 2004.\n",
      "Member States shall draw up a national action plan on how the guidelines shall be applied to such ships and craft. They shall forward that plan to the Commission not later than 17 May 2005.\n",
      "Article 2\n",
      "Member States shall bring into force the laws, regulations and administrative provisions necessary to comply with this Directive before 17 November 2004. They shall forthwith inform the Commission thereof.\n",
      "Commission Directive 2003/26/EC\n",
      "(Text with EEA relevance)\n",
      "Having regard to Directive 2000/30/EC of the European Parliament and of the Council of 6 June 2000 on the technical roadside inspection of the roadworthiness of commercial vehicles circulating in the Community(1), and in particular Article 8 thereof,\n",
      "(2) The field of roadworthiness testing is embraced by Council Directive 96/96/EC of 20 December 1996 on the approximation of the laws of the Member States relating to roadworthiness tests for motor vehicles and their trailers(2), as last amended by Commission Directive 2001/11/EC(3), which covers regular roadworthiness testing, and by Directive 2000/30/EC, which applies to the roadside inspections of heavy commercial vehicles for their roadworthiness. Both Directives use the same Committee and the same procedure for technical adaptations.\n",
      "HAS ADOPTED THIS DIRECTIVE:\n",
      "Article 2\n",
      "2. Member States shall communicate to the Commission the texts of the provisions of national law that they adopt in the field governed by this Directive.\n",
      "of 8 May 2003\n",
      "Having regard to the Treaty establishing the European Community, and in particular Article 175(1) thereof,\n",
      "Having regard to the opinion of the Committee of the Regions(3),\n",
      "(1) The European Council meeting at Gothenburg on 15 and 16 June 2001 agreed on a Community strategy for sustainable development consisting in a set of measures, which include the development of biofuels.\n",
      "(4) The transport sector accounts for more than 30 % of final energy consumption in the Community and is expanding, a trend which is bound to increase, along with carbon dioxide emissions and this expansion will be greater in percentage terms in the candidate countries following their accession to the European Union.\n",
      "(7) Increased use of biofuels for transport, without ruling out other possible alternative fuels, including automotive LPG and CNG, is one of the tools by which the Community can reduce its dependence on imported energy and influence the fuel market for transport and hence the security of energy supply in the medium and long term. However, this consideration should not detract in any way from the importance of compliance with Community legislation on fuel quality, vehicle emissions and air quality.\n",
      "(10) Promoting the use of biofuels in transport constitutes a step towards a wider application of biomass which will enable biofuel to be more extensively developed in the future, whilst not excluding other options and, in particular, the hydrogen option.\n",
      "(13) New types of fuel should conform to recognised technical standards if they are to be accepted to a greater extent by customers and vehicle manufacturers and hence penetrate the market. Technical standards also form the basis for requirements concerning emissions and the monitoring of emissions. Difficulties may be encountered in ensuring that new types of fuel meet current technical standards, which, to a large extent, have been developed for conventional fossil fuels. The Commission and standardisation bodies should monitor developments and adapt and develop actively standards, particularly volatility aspects, so that new types of fuel can be introduced, whilst maintaining environmental performance requirements.\n",
      "(16) In its resolution of 8 June 1998(5), the Council endorsed the Commission's strategy and action plan for renewable energy sources and requested specific measures in the biofuels sector.\n",
      "(19) In its resolution of 18 June 1998(6), the European Parliament called for an increase in the market share of biofuels to 2 % over five years through a package of measures, including tax exemption, financial assistance for the processing industry and the establishment of a compulsory rate of biofuels for oil companies.\n",
      "(22) Promotion of the production and use of biofuels could contribute to a reduction in energy import dependency and in emissions of greenhouse gases. In addition, biofuels, in pure form or as a blend, may in principle be used in existing motor vehicles and use the current motor vehicle fuel distribution system. The blending of biofuel with fossil fuels could facilitate a potential cost reduction in the distribution system in the Community.\n",
      "(25) An increase in the use of biofuels should be accompanied by a detailed analysis of the environmental, economic and social impact in order to decide whether it is advisable to increase the proportion of biofuels in relation to conventional fuels.\n",
      "(28) Encouragement of the promotion of biofuels should be consistent with security of supply and environmental objectives and related policy objectives and measures within each Member State. In doing so, Member States may consider cost-effective ways of publicising the possibilities of using biofuels.\n",
      "Article 1\n",
      "1. For the purpose of this Directive, the following definitions shall apply:\n",
      "(c) other renewable fuels\" means renewable fuels, other than biofuels, which originate from renewable energy sources as defined in Directive 2001/77/EC(8) and used for transport purposes;\n",
      "(ج) تعني \"مصادر الطاقة المتجددة الأخرى\" مصادر الوقود المتجددة، وغيرها من أنواع الوقود الحيوي، التي تأتي من مصادر الطاقة المتجددة على النحو المحدد في التوجيه رقم 2001/77 (8)، وتستخدم لأغراض النقل؛\n",
      "84\n",
      "__________________________________________________\n",
      "(f) it shall provide the Commission and the Member States with objective, reliable and comparable information and data on maritime safety and on pollution by ships to enable them to take the necessary steps to improve maritime safety and prevention of pollution by ships and to evaluate the effectiveness of existing measures. Such tasks shall include the collection, recording and evaluation of technical data in the fields of maritime safety and maritime traffic, as well as in the field of marine pollution, both accidental and deliberate, the systematic exploitation of existing databases, including their cross-fertilisation, and, where appropriate, the development of additional databases. On the basis of the data collected, the Agency shall assist the Commission in the publication, every six months, of information relating to ships that have been refused access to Community ports pursuant to Council Directive 95/21/EC of 19 June 1995 concerning the enforcement, in respect of shipping using Community ports and sailing in the waters under the jurisdiction of the Member States, of international standards for ship safety, pollution prevention and shipboard living and working conditions (port State control)(8). The Agency will also assist the Commission and the Member States in their activities to improve the identification and pursuit of ships making unlawful discharges;\n",
      "2. يتمتع المدير التنفيذي بالمهام والصلاحيات التالية:\n",
      "402\n",
      "__________________________________________________\n",
      "(9) In order to effectively ensure the accomplishment of the functions of the Agency, the Member States and the Commission should be represented on an Administrative Board entrusted with the necessary powers to establish the budget, verify its execution, adopt the appropriate financial rules, establish transparent working procedures for decision making by the Agency, approve its work programme, examine requests for technical assistance from Member States, define a policy for visits to the Member States and appoint the Executive Director. In the light of the highly technical and scientific mission and tasks of the Agency, it is appropriate for the Administrative Board to consist of one representative of each Member State and four representatives of the Commission, being members with a high level of expertise. In order further to ensure the highest level of expertise and experience in the Administrative Board and with a view to involving the sectors most closely concerned in the tasks of the Agency, the Commission should nominate independent professionals from these sectors as board members without the right to vote, on the basis of their personal merit and experience in the field of maritime safety and prevention of pollution by ships and not as representatives of particular professional organisations.\n",
      "1. يتكون مجلس الإدارة من ممثل واحد عن كل دولة من الدول الأعضاء وأربعة ممثلين عن المفوضية، إلى جانب أربعة مهنيين من القطاعات المعنية بشكل أكبر، ويتم تعيينهم من قِبل المفوضية، دون منحهم الحق في التصويت.\n",
      "411\n",
      "__________________________________________________\n",
      "Article 6a\n",
      "Article 2\n",
      "Article 3\n",
      "This Directive is addressed to the Member States.\n",
      "on the supplementary supervision of credit institutions, insurance undertakings and investment firms in a financial conglomerate and amending Council Directives 73/239/EEC, 79/267/EEC, 92/49/EEC, 92/96/EEC, 93/6/EEC and 93/22/EEC, and Directives 98/78/EC and 2000/12/EC of the European Parliament and of the Council\n",
      "Having regard to the proposal from the Commission(1),\n",
      "Having regard to the opinion of the European Central Bank(3),\n",
      "(1) The current Community legislation provides for a comprehensive set of rules on the prudential supervision of credit institutions, insurance undertakings and investment firms on a stand alone basis and credit institutions, insurance undertakings and investment firms which are part of respectively a banking/investment firm group or an insurance group, i.e. groups with homogeneous financial activities.\n",
      "(4) Other international forums have also identified the need for the development of appropriate supervisory concepts with regard to financial conglomerates.\n",
      "(7) The competent authorities should be able to assess at a group-wide level the financial situation of credit institutions, insurance undertakings and investment firms which are part of a financial conglomerate, in particular as regards solvency (including the elimination of multiple gearing of own funds instruments), risk concentration and intra-group transactions.\n",
      "(10) The tasks of the coordinator should not affect the tasks and responsibilities of the competent authorities as provided for by the sectoral rules.\n",
      "(13) Credit institutions, insurance undertakings and investment firms which have their head office in the Community can be part of a financial conglomerate, the head of which is outside the Community. These regulated entities should also be subject to equivalent and appropriate supplementary supervisory arrangements which achieve objectives and results similar to those pursued by the provisions of this Directive. To this end, transparency of rules and exchange of information with third-country authorities on all relevant circumstances are of great importance.\n",
      "(16) Since the objective of the proposed action, namely the establishment of rules on the supplementary supervision of credit institutions, insurance undertakings and investment firms in a financial conglomerate, cannot be sufficiently achieved by the Member States and can therefore, by reason of the scale and the effects of the action, be better achieved at Community level, the Community may adopt measures, in accordance with the principle of subsidiarity as set out in Article 5 of the Treaty. In accordance with the principle of proportionality, as set out in that Article, this Directive does not go beyond what is necessary in order to achieve this objective. Since this Directive defines minimum standards, Member States may lay down stricter rules.\n",
      "(19) Technical guidance and implementing measures for the rules laid down in this Directive may from time to time be necessary to take account of new developments on financial markets. The Commission should accordingly be empowered to adopt implementing measures, provided that these do not modify the essential elements of this Directive.\n",
      "HAVE ADOPTED THIS DIRECTIVE:\n",
      "Article 1\n",
      "Article 2\n",
      "1. credit institution\" shall mean a credit institution within the meaning of the second subparagraph of Article 1(1) of Directive 2000/12/EC;\n",
      "تشترط الدول الأعضاء أيضًا اشتمال الكيانات المنظَّمة على سياسات ملائمة لكفاية رأس المال على مستوى التكتل المالي.\n",
      "603\n",
      "__________________________________________________\n",
      "Whereas the effective administration of the quota system defined in Title III of Regulation (EEC) No 1785/81, particularly in view of the Community's commitments under the aforementioned Agreement on Agriculture, calls for an awareness of all the relevant factors; whereas this entails the application of Council Regulation (EEC) No 206/68 of 20 February 1968 laying down outline provisions for contracts and inter-trade agreements on the purchase of beet (19), as last amended by the Act of Accession of Austria, Finland and Sweden, Council Regulation (EEC) No 193/82 of 26 January 1982 laying down general rules for transfers of quotas in the sugar sector (20), Commission Regulation (EEC) No 2670/81 of 14 September 1981 laying down detailed implementing rules in respect of sugar production in excess of the quota (21), as last amended by Regulation (EC) No 158/96 (22), and Commission Regulation (EEC) No 1443/82 of 8 June 1982 laying down detailed rules for the application of the quota system in the sugar sector (23), as last amended by Regulation (EC) No 392/94 (24); whereas the above also applies to the equalization system for storage costs laid down by Article 8 of Regulation (EEC) No 1785/81; whereas this refers to the application of Council Regulation (EEC) No 1358/77 of 20 June 1977 laying down general rules for offsetting storage costs for sugar and repealing Regulation (EEC) No 750/68 (25), as last amended by Regulation (EEC) No 3042/78 (26), and Commission Regulation (EEC) No 1998/78 of 18 August 1978 laying down detailed rules for the offsetting of storage costs for sugar (27), as last amended by Regulation (EEC) No 1758/93 (28);\n",
      "الدخول حيز التنفيذ\n",
      "2046\n",
      "__________________________________________________\n"
     ]
    }
   ],
   "source": [
    "for i in range(df_en.shape[0]):\n",
    "  if len(df_en.english.iloc[-i].split()) > 200:\n",
    "    print(df_en.english.iloc[-i]) \n",
    "    print(df_ar.arabic.iloc[-i])\n",
    "    print(i)\n",
    "    print(\"_\"*50)"
   ]
  },
  {
   "cell_type": "code",
   "execution_count": 28,
   "id": "dc11b57c",
   "metadata": {},
   "outputs": [
    {
     "data": {
      "text/html": [
       "<div>\n",
       "<style scoped>\n",
       "    .dataframe tbody tr th:only-of-type {\n",
       "        vertical-align: middle;\n",
       "    }\n",
       "\n",
       "    .dataframe tbody tr th {\n",
       "        vertical-align: top;\n",
       "    }\n",
       "\n",
       "    .dataframe thead th {\n",
       "        text-align: right;\n",
       "    }\n",
       "</style>\n",
       "<table border=\"1\" class=\"dataframe\">\n",
       "  <thead>\n",
       "    <tr style=\"text-align: right;\">\n",
       "      <th></th>\n",
       "      <th>english</th>\n",
       "    </tr>\n",
       "  </thead>\n",
       "  <tbody>\n",
       "    <tr>\n",
       "      <th>410</th>\n",
       "      <td>- submit once per month in a standardized form...</td>\n",
       "    </tr>\n",
       "    <tr>\n",
       "      <th>411</th>\n",
       "      <td>Article 7</td>\n",
       "    </tr>\n",
       "    <tr>\n",
       "      <th>412</th>\n",
       "      <td>- has sold either some or all of his olive pro...</td>\n",
       "    </tr>\n",
       "    <tr>\n",
       "      <th>413</th>\n",
       "      <td>1. Before submitting the aid application each ...</td>\n",
       "    </tr>\n",
       "    <tr>\n",
       "      <th>414</th>\n",
       "      <td>2. Producer organizations shall forward the fi...</td>\n",
       "    </tr>\n",
       "    <tr>\n",
       "      <th>415</th>\n",
       "      <td>- where the particulars of the crop declaratio...</td>\n",
       "    </tr>\n",
       "    <tr>\n",
       "      <th>416</th>\n",
       "      <td>However, the producer organizations comprising...</td>\n",
       "    </tr>\n",
       "    <tr>\n",
       "      <th>417</th>\n",
       "      <td>- shall coordinate the activities of the organ...</td>\n",
       "    </tr>\n",
       "    <tr>\n",
       "      <th>418</th>\n",
       "      <td>Article 11</td>\n",
       "    </tr>\n",
       "    <tr>\n",
       "      <th>419</th>\n",
       "      <td>(b) the balance shall be paid to all the produ...</td>\n",
       "    </tr>\n",
       "  </tbody>\n",
       "</table>\n",
       "</div>"
      ],
      "text/plain": [
       "                                               english\n",
       "410  - submit once per month in a standardized form...\n",
       "411                                          Article 7\n",
       "412  - has sold either some or all of his olive pro...\n",
       "413  1. Before submitting the aid application each ...\n",
       "414  2. Producer organizations shall forward the fi...\n",
       "415  - where the particulars of the crop declaratio...\n",
       "416  However, the producer organizations comprising...\n",
       "417  - shall coordinate the activities of the organ...\n",
       "418                                         Article 11\n",
       "419  (b) the balance shall be paid to all the produ..."
      ]
     },
     "execution_count": 28,
     "metadata": {},
     "output_type": "execute_result"
    }
   ],
   "source": [
    "df_en.iloc[410:420]"
   ]
  },
  {
   "cell_type": "code",
   "execution_count": 30,
   "id": "0ebeb0aa",
   "metadata": {},
   "outputs": [
    {
     "data": {
      "text/html": [
       "<div>\n",
       "<style scoped>\n",
       "    .dataframe tbody tr th:only-of-type {\n",
       "        vertical-align: middle;\n",
       "    }\n",
       "\n",
       "    .dataframe tbody tr th {\n",
       "        vertical-align: top;\n",
       "    }\n",
       "\n",
       "    .dataframe thead th {\n",
       "        text-align: right;\n",
       "    }\n",
       "</style>\n",
       "<table border=\"1\" class=\"dataframe\">\n",
       "  <thead>\n",
       "    <tr style=\"text-align: right;\">\n",
       "      <th></th>\n",
       "      <th>arabic</th>\n",
       "    </tr>\n",
       "  </thead>\n",
       "  <tbody>\n",
       "    <tr>\n",
       "      <th>395</th>\n",
       "      <td>- تقدم مرة واحدة في الشهر في شكل موحد مناسب لم...</td>\n",
       "    </tr>\n",
       "    <tr>\n",
       "      <th>396</th>\n",
       "      <td>المادة 7</td>\n",
       "    </tr>\n",
       "    <tr>\n",
       "      <th>397</th>\n",
       "      <td>- باعت بعض أو كامل إنتاجها من الزيتون، و</td>\n",
       "    </tr>\n",
       "    <tr>\n",
       "      <th>398</th>\n",
       "      <td>1. قبل تقديم طلب الدعم، يتوجب على كل منظمة منت...</td>\n",
       "    </tr>\n",
       "    <tr>\n",
       "      <th>399</th>\n",
       "      <td>2. يتوجب على المنظمات المنتجة تقديم ملفات أعضا...</td>\n",
       "    </tr>\n",
       "    <tr>\n",
       "      <th>400</th>\n",
       "      <td>- عندما لا تتوافق تفاصيل تصريح المحاصيل مع الو...</td>\n",
       "    </tr>\n",
       "    <tr>\n",
       "      <th>401</th>\n",
       "      <td>ولكن، يجب أن تكون المنظمات المنتجة التي تشمل ش...</td>\n",
       "    </tr>\n",
       "    <tr>\n",
       "      <th>402</th>\n",
       "      <td>- يتوجب عليها تنسيق أعمال المنظمات المؤلفة منه...</td>\n",
       "    </tr>\n",
       "    <tr>\n",
       "      <th>403</th>\n",
       "      <td>المادة 11</td>\n",
       "    </tr>\n",
       "    <tr>\n",
       "      <th>404</th>\n",
       "      <td>(ب)  يجب تسديد الميزانية لكل المنظمات المنتجة ...</td>\n",
       "    </tr>\n",
       "  </tbody>\n",
       "</table>\n",
       "</div>"
      ],
      "text/plain": [
       "                                                arabic\n",
       "395  - تقدم مرة واحدة في الشهر في شكل موحد مناسب لم...\n",
       "396                                           المادة 7\n",
       "397           - باعت بعض أو كامل إنتاجها من الزيتون، و\n",
       "398  1. قبل تقديم طلب الدعم، يتوجب على كل منظمة منت...\n",
       "399  2. يتوجب على المنظمات المنتجة تقديم ملفات أعضا...\n",
       "400  - عندما لا تتوافق تفاصيل تصريح المحاصيل مع الو...\n",
       "401  ولكن، يجب أن تكون المنظمات المنتجة التي تشمل ش...\n",
       "402  - يتوجب عليها تنسيق أعمال المنظمات المؤلفة منه...\n",
       "403                                          المادة 11\n",
       "404  (ب)  يجب تسديد الميزانية لكل المنظمات المنتجة ..."
      ]
     },
     "execution_count": 30,
     "metadata": {},
     "output_type": "execute_result"
    }
   ],
   "source": [
    "df_ar.iloc[395:405]"
   ]
  },
  {
   "cell_type": "code",
   "execution_count": 19,
   "id": "73d511c0",
   "metadata": {},
   "outputs": [
    {
     "data": {
      "text/html": [
       "<div>\n",
       "<style scoped>\n",
       "    .dataframe tbody tr th:only-of-type {\n",
       "        vertical-align: middle;\n",
       "    }\n",
       "\n",
       "    .dataframe tbody tr th {\n",
       "        vertical-align: top;\n",
       "    }\n",
       "\n",
       "    .dataframe thead th {\n",
       "        text-align: right;\n",
       "    }\n",
       "</style>\n",
       "<table border=\"1\" class=\"dataframe\">\n",
       "  <thead>\n",
       "    <tr style=\"text-align: right;\">\n",
       "      <th></th>\n",
       "      <th>english</th>\n",
       "    </tr>\n",
       "  </thead>\n",
       "  <tbody>\n",
       "    <tr>\n",
       "      <th>31</th>\n",
       "      <td>Article 2</td>\n",
       "    </tr>\n",
       "    <tr>\n",
       "      <th>36</th>\n",
       "      <td>Article 2</td>\n",
       "    </tr>\n",
       "    <tr>\n",
       "      <th>46</th>\n",
       "      <td>Article 2</td>\n",
       "    </tr>\n",
       "    <tr>\n",
       "      <th>82</th>\n",
       "      <td>Article 2</td>\n",
       "    </tr>\n",
       "    <tr>\n",
       "      <th>154</th>\n",
       "      <td>Article 2</td>\n",
       "    </tr>\n",
       "    <tr>\n",
       "      <th>...</th>\n",
       "      <td>...</td>\n",
       "    </tr>\n",
       "    <tr>\n",
       "      <th>3628</th>\n",
       "      <td>Article 2</td>\n",
       "    </tr>\n",
       "    <tr>\n",
       "      <th>3639</th>\n",
       "      <td>Article 2</td>\n",
       "    </tr>\n",
       "    <tr>\n",
       "      <th>3925</th>\n",
       "      <td>Article 2</td>\n",
       "    </tr>\n",
       "    <tr>\n",
       "      <th>3999</th>\n",
       "      <td>Article 2</td>\n",
       "    </tr>\n",
       "    <tr>\n",
       "      <th>4013</th>\n",
       "      <td>Article 2</td>\n",
       "    </tr>\n",
       "  </tbody>\n",
       "</table>\n",
       "<p>67 rows × 1 columns</p>\n",
       "</div>"
      ],
      "text/plain": [
       "        english\n",
       "31    Article 2\n",
       "36    Article 2\n",
       "46    Article 2\n",
       "82    Article 2\n",
       "154   Article 2\n",
       "...         ...\n",
       "3628  Article 2\n",
       "3639  Article 2\n",
       "3925  Article 2\n",
       "3999  Article 2\n",
       "4013  Article 2\n",
       "\n",
       "[67 rows x 1 columns]"
      ]
     },
     "execution_count": 19,
     "metadata": {},
     "output_type": "execute_result"
    }
   ],
   "source": [
    "df_en[df_en['english'] == 'Article 2']"
   ]
  },
  {
   "cell_type": "code",
   "execution_count": 23,
   "id": "2c94f9e8",
   "metadata": {},
   "outputs": [
    {
     "data": {
      "text/html": [
       "<div>\n",
       "<style scoped>\n",
       "    .dataframe tbody tr th:only-of-type {\n",
       "        vertical-align: middle;\n",
       "    }\n",
       "\n",
       "    .dataframe tbody tr th {\n",
       "        vertical-align: top;\n",
       "    }\n",
       "\n",
       "    .dataframe thead th {\n",
       "        text-align: right;\n",
       "    }\n",
       "</style>\n",
       "<table border=\"1\" class=\"dataframe\">\n",
       "  <thead>\n",
       "    <tr style=\"text-align: right;\">\n",
       "      <th></th>\n",
       "      <th>arabic</th>\n",
       "    </tr>\n",
       "  </thead>\n",
       "  <tbody>\n",
       "    <tr>\n",
       "      <th>31</th>\n",
       "      <td>المادة 2</td>\n",
       "    </tr>\n",
       "    <tr>\n",
       "      <th>36</th>\n",
       "      <td>المادة 2</td>\n",
       "    </tr>\n",
       "    <tr>\n",
       "      <th>46</th>\n",
       "      <td>المادة 2</td>\n",
       "    </tr>\n",
       "    <tr>\n",
       "      <th>85</th>\n",
       "      <td>المادة 2</td>\n",
       "    </tr>\n",
       "    <tr>\n",
       "      <th>157</th>\n",
       "      <td>المادة 2</td>\n",
       "    </tr>\n",
       "    <tr>\n",
       "      <th>...</th>\n",
       "      <td>...</td>\n",
       "    </tr>\n",
       "    <tr>\n",
       "      <th>3815</th>\n",
       "      <td>المادة 2</td>\n",
       "    </tr>\n",
       "    <tr>\n",
       "      <th>3856</th>\n",
       "      <td>المادة 2</td>\n",
       "    </tr>\n",
       "    <tr>\n",
       "      <th>3863</th>\n",
       "      <td>المادة 2</td>\n",
       "    </tr>\n",
       "    <tr>\n",
       "      <th>3917</th>\n",
       "      <td>المادة 2</td>\n",
       "    </tr>\n",
       "    <tr>\n",
       "      <th>3931</th>\n",
       "      <td>المادة 2</td>\n",
       "    </tr>\n",
       "  </tbody>\n",
       "</table>\n",
       "<p>69 rows × 1 columns</p>\n",
       "</div>"
      ],
      "text/plain": [
       "        arabic\n",
       "31    المادة 2\n",
       "36    المادة 2\n",
       "46    المادة 2\n",
       "85    المادة 2\n",
       "157   المادة 2\n",
       "...        ...\n",
       "3815  المادة 2\n",
       "3856  المادة 2\n",
       "3863  المادة 2\n",
       "3917  المادة 2\n",
       "3931  المادة 2\n",
       "\n",
       "[69 rows x 1 columns]"
      ]
     },
     "execution_count": 23,
     "metadata": {},
     "output_type": "execute_result"
    }
   ],
   "source": [
    "df_ar[df_ar['arabic'] == \"المادة 2\"]"
   ]
  },
  {
   "cell_type": "code",
   "execution_count": null,
   "id": "9c0217a3",
   "metadata": {},
   "outputs": [],
   "source": []
  },
  {
   "cell_type": "code",
   "execution_count": 255,
   "id": "be905b2c",
   "metadata": {
    "id": "be905b2c"
   },
   "outputs": [],
   "source": [
    "text_pairs = []\n",
    "for idx, row in df.iterrows():\n",
    "    eng, ar = row['eng'], row['ar']\n",
    "    ar = \"[start] \" + ar + \" [end]\"\n",
    "    text_pairs.append((eng, ar))"
   ]
  },
  {
   "cell_type": "code",
   "execution_count": 256,
   "id": "296e4594",
   "metadata": {
    "colab": {
     "base_uri": "https://localhost:8080/"
    },
    "id": "296e4594",
    "outputId": "c9f1bc2c-9acb-409b-f699-c8caec75f538"
   },
   "outputs": [
    {
     "name": "stdout",
     "output_type": "stream",
     "text": [
      "('during the closing session of the new media workshop i led recently in alexandria egypt practically everybody paid tribute to shahinaz abdelsalam better known in the blogosphere as wahda masrya an egyptian girl the lone alexandria native and one of the few experienced bloggers among the group shahinaz became for most of the participants a symbol of courage and deep commitment to the cause of human rights and of freedom expression.', '[start] خلال الجلسة النهايية من ورشة الاعلام الجديدة التي نظمتها في الاسكندرية مصر عمد الجميع للتعبير عن تقديرهم لشهيناز عبد السلام المعروفة ب واحدة مصرية عربي في عالم المدونات تلك الفتاة الوحيدة المتاصلة من الاسكندرية ومن بين قلة من المدونين المصريين المخضرمين في المجموعة باتت شاهيناز بالنسبة للعديد من المشاركين في الورشة رمزا للشجاعة والاخلاص لقضيتي حقوق الانسان وحرية التعبير [end]')\n",
      "('He is a naughty boy.', '[start] هو ولد مشاغب. [end]')\n"
     ]
    }
   ],
   "source": [
    "for _ in range(2):\n",
    "    print(random.choice(text_pairs))"
   ]
  },
  {
   "cell_type": "code",
   "execution_count": 257,
   "id": "c1283f6f",
   "metadata": {
    "id": "c1283f6f"
   },
   "outputs": [],
   "source": [
    "random.shuffle(text_pairs)\n",
    "num_val_samples = int(0.15 * len(text_pairs))\n",
    "num_train_samples = len(text_pairs) -  num_val_samples\n",
    "train_pairs = text_pairs[: num_train_samples]\n",
    "val_pairs = text_pairs[num_train_samples: num_train_samples + num_val_samples]"
   ]
  },
  {
   "cell_type": "code",
   "execution_count": 258,
   "id": "a7a1f8cd",
   "metadata": {
    "colab": {
     "base_uri": "https://localhost:8080/"
    },
    "id": "a7a1f8cd",
    "outputId": "9ac7d124-79e8-48d2-c149-de8983a66d8f"
   },
   "outputs": [
    {
     "name": "stdout",
     "output_type": "stream",
     "text": [
      "24638 total pairs\n",
      "20943 training pairs\n",
      "3695 validation pairs\n"
     ]
    }
   ],
   "source": [
    "print(f\"{len(text_pairs)} total pairs\")\n",
    "print(f\"{len(train_pairs)} training pairs\")\n",
    "print(f\"{len(val_pairs)} validation pairs\")"
   ]
  },
  {
   "cell_type": "markdown",
   "id": "d5f6d84e",
   "metadata": {
    "id": "d5f6d84e"
   },
   "source": [
    "#### Vectorizing the text data "
   ]
  },
  {
   "cell_type": "code",
   "execution_count": 265,
   "id": "487ed66f",
   "metadata": {
    "id": "487ed66f"
   },
   "outputs": [],
   "source": [
    "strip_chars = string.punctuation\n",
    "strip_chars = strip_chars.replace(\"[\", \"\")\n",
    "strip_chars = strip_chars.replace(\"]\", \"\")\n",
    "\n",
    "\n",
    "vocab_size = 20000\n",
    "sequence_length = 150\n",
    "batch_size = 128\n",
    "\n",
    "def custom_standardization(input_string):\n",
    "    return tf.strings.regex_replace(input_string, \"[%s]\" % re.escape(strip_chars), \"\")\n",
    "\n",
    "eng_vectorization = TextVectorization(\n",
    "            max_tokens=vocab_size, output_mode='int', output_sequence_length=sequence_length)\n",
    "\n",
    "ar_vectorization = TextVectorization(\n",
    "    max_tokens=vocab_size,\n",
    "    output_mode=\"int\",\n",
    "    output_sequence_length=sequence_length + 1,\n",
    "    standardize=custom_standardization)\n",
    "\n",
    "eng_texts = [pair[0] for pair in text_pairs]\n",
    "ar_texts = [pair[1] for pair in text_pairs]\n",
    "eng_vectorization.adapt(eng_texts)\n",
    "ar_vectorization.adapt(ar_texts)"
   ]
  },
  {
   "cell_type": "code",
   "execution_count": 270,
   "id": "V5qiqjOWdVz1",
   "metadata": {
    "id": "V5qiqjOWdVz1"
   },
   "outputs": [],
   "source": [
    "def format_dataset(eng, ar):\n",
    "    eng = eng_vectorization(eng)\n",
    "    ar = ar_vectorization(ar)\n",
    "    return ({\"encoder_inputs\": eng, \"decoder_inputs\": ar[:, :-1],}, ar[:, 1:])\n",
    "\n",
    "\n",
    "def make_dataset(pairs):\n",
    "    eng_texts, ar_texts = zip(*pairs)\n",
    "    eng_texts = list(eng_texts)\n",
    "    ar_texts = list(ar_texts)\n",
    "    dataset = tf.data.Dataset.from_tensor_slices((eng_texts, ar_texts))\n",
    "    dataset = dataset.batch(batch_size)\n",
    "    dataset = dataset.map(format_dataset)\n",
    "    return dataset.shuffle(2048).prefetch(16).cache()"
   ]
  },
  {
   "cell_type": "code",
   "execution_count": 271,
   "id": "7a3ed140",
   "metadata": {
    "id": "7a3ed140"
   },
   "outputs": [],
   "source": [
    "train_ds = make_dataset(train_pairs)\n",
    "val_ds = make_dataset(val_pairs)"
   ]
  },
  {
   "cell_type": "code",
   "execution_count": 272,
   "id": "3902789f",
   "metadata": {
    "colab": {
     "base_uri": "https://localhost:8080/"
    },
    "id": "3902789f",
    "outputId": "790645ce-035f-46c8-88ca-ab7397b19ce4"
   },
   "outputs": [
    {
     "name": "stdout",
     "output_type": "stream",
     "text": [
      "inputs[\"encoder_inputs\"].shape: (128, 150)\n",
      "inputs[\"decoder_inputs\"].shape: (128, 150)\n",
      "targets.shape: (128, 150)\n"
     ]
    }
   ],
   "source": [
    "for inputs, targets in train_ds.take(1):\n",
    "    print(f'inputs[\"encoder_inputs\"].shape: {inputs[\"encoder_inputs\"].shape}')\n",
    "    print(f'inputs[\"decoder_inputs\"].shape: {inputs[\"decoder_inputs\"].shape}')\n",
    "    print(f\"targets.shape: {targets.shape}\")"
   ]
  },
  {
   "cell_type": "markdown",
   "id": "4fa0936c",
   "metadata": {
    "id": "4fa0936c"
   },
   "source": [
    "### Building the Model "
   ]
  },
  {
   "cell_type": "code",
   "execution_count": 273,
   "id": "b3baf452",
   "metadata": {
    "id": "b3baf452"
   },
   "outputs": [],
   "source": [
    "class TransformerEncoder(layers.Layer):\n",
    "    def __init__(self, embed_dim, dense_dim, num_heads, **kwargs):\n",
    "        super(TransformerEncoder, self).__init__(**kwargs)\n",
    "        self.embed_dim = embed_dim\n",
    "        self.dense_dim = dense_dim\n",
    "        self.num_heads = num_heads\n",
    "        self.attention = layers.MultiHeadAttention(\n",
    "            num_heads=num_heads, key_dim=embed_dim\n",
    "        )\n",
    "        self.dense_proj = keras.Sequential(\n",
    "            [layers.Dense(dense_dim, activation=\"relu\"), layers.Dense(embed_dim),]\n",
    "        )\n",
    "        self.layernorm_1 = layers.LayerNormalization()\n",
    "        self.layernorm_2 = layers.LayerNormalization()\n",
    "        self.supports_masking = True\n",
    "\n",
    "    def call(self, inputs, mask=None):\n",
    "        if mask is not None:\n",
    "            padding_mask = tf.cast(mask[:, tf.newaxis, tf.newaxis, :], dtype=\"int32\")\n",
    "        attention_output = self.attention(\n",
    "            query=inputs, value=inputs, key=inputs, attention_mask=padding_mask\n",
    "        )\n",
    "        proj_input = self.layernorm_1(inputs + attention_output)\n",
    "        proj_output = self.dense_proj(proj_input)\n",
    "        return self.layernorm_2(proj_input + proj_output)\n",
    "\n",
    "    def get_config(self):\n",
    "\n",
    "      config = super().get_config().copy()\n",
    "      config.update({\n",
    "          'embed_dim': self.embed_dim,\n",
    "          'dense_dim': self.dense_dim,\n",
    "          'num_heads': self.num_heads,\n",
    "      })\n",
    "      return config\n",
    "\n",
    "class PositionalEmbedding(layers.Layer):\n",
    "    def __init__(self, sequence_length, vocab_size, embed_dim, **kwargs):\n",
    "        super(PositionalEmbedding, self).__init__(**kwargs)\n",
    "        self.token_embeddings = layers.Embedding(\n",
    "            input_dim=vocab_size, output_dim=embed_dim\n",
    "        )\n",
    "        self.position_embeddings = layers.Embedding(\n",
    "            input_dim=sequence_length, output_dim=embed_dim\n",
    "        )\n",
    "        self.sequence_length = sequence_length\n",
    "        self.vocab_size = vocab_size\n",
    "        self.embed_dim = embed_dim\n",
    "      \n",
    "    def get_config(self):\n",
    "\n",
    "      config = super().get_config().copy()\n",
    "      config.update({\n",
    "      'sequence_length': self.sequence_length,\n",
    "      'vocab_size': self.vocab_size,\n",
    "      'embed_dim': self.embed_dim,\n",
    "      })\n",
    "      return config\n",
    "\n",
    "    def call(self, inputs):\n",
    "        length = tf.shape(inputs)[-1]\n",
    "        positions = tf.range(start=0, limit=length, delta=1)\n",
    "        embedded_tokens = self.token_embeddings(inputs)\n",
    "        embedded_positions = self.position_embeddings(positions)\n",
    "        return embedded_tokens + embedded_positions\n",
    "\n",
    "    def compute_mask(self, inputs, mask=None):\n",
    "        return tf.math.not_equal(inputs, 0)\n",
    "\n",
    "\n",
    "class TransformerDecoder(layers.Layer):\n",
    "    def __init__(self, embed_dim, latent_dim, num_heads, **kwargs):\n",
    "        super(TransformerDecoder, self).__init__(**kwargs)\n",
    "        self.embed_dim = embed_dim\n",
    "        self.latent_dim = latent_dim\n",
    "        self.num_heads = num_heads\n",
    "        self.attention_1 = layers.MultiHeadAttention(\n",
    "            num_heads=num_heads, key_dim=embed_dim\n",
    "        )\n",
    "        self.attention_2 = layers.MultiHeadAttention(\n",
    "            num_heads=num_heads, key_dim=embed_dim\n",
    "        )\n",
    "        self.dense_proj = keras.Sequential(\n",
    "            [layers.Dense(latent_dim, activation=\"relu\"), layers.Dense(embed_dim),]\n",
    "        )\n",
    "        self.layernorm_1 = layers.LayerNormalization()\n",
    "        self.layernorm_2 = layers.LayerNormalization()\n",
    "        self.layernorm_3 = layers.LayerNormalization()\n",
    "        self.supports_masking = True\n",
    "\n",
    "\n",
    "    def get_config(self):\n",
    "\n",
    "      config = super().get_config().copy()\n",
    "      config.update({\n",
    "      'embed_dim': self.embed_dim,\n",
    "      'latent_dim': self.latent_dim,\n",
    "      'num_heads': self.num_heads,\n",
    "      })\n",
    "      return config\n",
    "\n",
    "    def call(self, inputs, encoder_outputs, mask=None):\n",
    "        causal_mask = self.get_causal_attention_mask(inputs)\n",
    "        if mask is not None:\n",
    "            padding_mask = tf.cast(mask[:, tf.newaxis, :], dtype=\"int32\")\n",
    "            padding_mask = tf.minimum(padding_mask, causal_mask)\n",
    "\n",
    "        attention_output_1 = self.attention_1(\n",
    "            query=inputs, value=inputs, key=inputs, attention_mask=causal_mask\n",
    "        )\n",
    "        out_1 = self.layernorm_1(inputs + attention_output_1)\n",
    "\n",
    "        attention_output_2 = self.attention_2(\n",
    "            query=out_1,\n",
    "            value=encoder_outputs,\n",
    "            key=encoder_outputs,\n",
    "            attention_mask=padding_mask,\n",
    "        )\n",
    "        out_2 = self.layernorm_2(out_1 + attention_output_2)\n",
    "\n",
    "        proj_output = self.dense_proj(out_2)\n",
    "        return self.layernorm_3(out_2 + proj_output)\n",
    "\n",
    "    def get_causal_attention_mask(self, inputs):\n",
    "        input_shape = tf.shape(inputs)\n",
    "        batch_size, sequence_length = input_shape[0], input_shape[1]\n",
    "        i = tf.range(sequence_length)[:, tf.newaxis]\n",
    "        j = tf.range(sequence_length)\n",
    "        mask = tf.cast(i >= j, dtype=\"int32\")\n",
    "        mask = tf.reshape(mask, (1, input_shape[1], input_shape[1]))\n",
    "        mult = tf.concat(\n",
    "            [tf.expand_dims(batch_size, -1), tf.constant([1, 1], dtype=tf.int32)],\n",
    "            axis=0,\n",
    "        )\n",
    "        return tf.tile(mask, mult)"
   ]
  },
  {
   "cell_type": "code",
   "execution_count": 274,
   "id": "04c57e1e",
   "metadata": {
    "id": "04c57e1e"
   },
   "outputs": [],
   "source": [
    "embed_dim = 256\n",
    "latent_dim = 2048\n",
    "num_heads = 8\n",
    "\n",
    "encoder_inputs = keras.Input(shape=(None,), dtype=\"int64\", name=\"encoder_inputs\")\n",
    "x = PositionalEmbedding(sequence_length, vocab_size, embed_dim)(encoder_inputs)\n",
    "encoder_outputs = TransformerEncoder(embed_dim, latent_dim, num_heads)(x)\n",
    "encoder = keras.Model(encoder_inputs, encoder_outputs)\n",
    "\n",
    "decoder_inputs = keras.Input(shape=(None,), dtype=\"int64\", name=\"decoder_inputs\")\n",
    "encoded_seq_inputs = keras.Input(shape=(None, embed_dim), name=\"decoder_state_inputs\")\n",
    "x = PositionalEmbedding(sequence_length, vocab_size, embed_dim)(decoder_inputs)\n",
    "x = TransformerDecoder(embed_dim, latent_dim, num_heads)(x, encoded_seq_inputs)\n",
    "x = layers.Dropout(0.5)(x)\n",
    "decoder_outputs = layers.Dense(vocab_size, activation=\"softmax\")(x)\n",
    "decoder = keras.Model([decoder_inputs, encoded_seq_inputs], decoder_outputs)\n",
    "\n",
    "decoder_outputs = decoder([decoder_inputs, encoder_outputs])\n",
    "transformer = keras.Model(\n",
    "    [encoder_inputs, decoder_inputs], decoder_outputs, name=\"transformer\"\n",
    ")"
   ]
  },
  {
   "cell_type": "code",
   "execution_count": 275,
   "id": "vt9sp6Yrb4pE",
   "metadata": {
    "id": "vt9sp6Yrb4pE"
   },
   "outputs": [],
   "source": [
    "googledrive_path = '/content/drive/MyDrive/Transformers/'"
   ]
  },
  {
   "cell_type": "code",
   "execution_count": 276,
   "id": "wqmaEQ94kyB9",
   "metadata": {
    "id": "wqmaEQ94kyB9"
   },
   "outputs": [],
   "source": [
    "from keras import callbacks\n",
    "early_stopping_cb = callbacks.EarlyStopping(monitor='val_accuracy', patience=4, verbose=True)\n",
    "checkpoint_cb = callbacks.ModelCheckpoint(googledrive_path+'model.h5', monitor='val_accuracy', verbose=True, save_best_only=True)\n",
    "tensorboard_callback = callbacks.TensorBoard(log_dir=googledrive_path+\"logs\")\n",
    "cbs = [early_stopping_cb, checkpoint_cb, tensorboard_callback]"
   ]
  },
  {
   "cell_type": "code",
   "execution_count": 277,
   "id": "H50DkdfyLyqt",
   "metadata": {
    "colab": {
     "base_uri": "https://localhost:8080/"
    },
    "id": "H50DkdfyLyqt",
    "outputId": "4fdc315d-03ba-4cbf-f53a-9237360bc76a"
   },
   "outputs": [
    {
     "name": "stdout",
     "output_type": "stream",
     "text": [
      "Model: \"transformer\"\n",
      "__________________________________________________________________________________________________\n",
      "Layer (type)                    Output Shape         Param #     Connected to                     \n",
      "==================================================================================================\n",
      "encoder_inputs (InputLayer)     [(None, None)]       0                                            \n",
      "__________________________________________________________________________________________________\n",
      "positional_embedding_24 (Positi (None, None, 256)    5158400     encoder_inputs[0][0]             \n",
      "__________________________________________________________________________________________________\n",
      "decoder_inputs (InputLayer)     [(None, None)]       0                                            \n",
      "__________________________________________________________________________________________________\n",
      "transformer_encoder_12 (Transfo (None, None, 256)    3155456     positional_embedding_24[0][0]    \n",
      "__________________________________________________________________________________________________\n",
      "model_25 (Functional)           (None, None, 20000)  15557920    decoder_inputs[0][0]             \n",
      "                                                                 transformer_encoder_12[0][0]     \n",
      "==================================================================================================\n",
      "Total params: 23,871,776\n",
      "Trainable params: 23,871,776\n",
      "Non-trainable params: 0\n",
      "__________________________________________________________________________________________________\n",
      "Epoch 1/30\n",
      "164/164 [==============================] - 182s 915ms/step - loss: 0.7902 - accuracy: 0.1894 - val_loss: 0.7280 - val_accuracy: 0.2264\n",
      "\n",
      "Epoch 00001: val_accuracy improved from -inf to 0.22635, saving model to /content/drive/MyDrive/Transformers/model.h5\n",
      "Epoch 2/30\n",
      "164/164 [==============================] - 148s 905ms/step - loss: 0.6871 - accuracy: 0.2444 - val_loss: 0.6861 - val_accuracy: 0.2434\n",
      "\n",
      "Epoch 00002: val_accuracy improved from 0.22635 to 0.24343, saving model to /content/drive/MyDrive/Transformers/model.h5\n",
      "Epoch 3/30\n",
      "164/164 [==============================] - 148s 905ms/step - loss: 0.6205 - accuracy: 0.2733 - val_loss: 0.6646 - val_accuracy: 0.2637\n",
      "\n",
      "Epoch 00003: val_accuracy improved from 0.24343 to 0.26371, saving model to /content/drive/MyDrive/Transformers/model.h5\n",
      "Epoch 4/30\n",
      "164/164 [==============================] - 148s 900ms/step - loss: 0.5644 - accuracy: 0.2970 - val_loss: 0.6503 - val_accuracy: 0.2629\n",
      "\n",
      "Epoch 00004: val_accuracy did not improve from 0.26371\n",
      "Epoch 5/30\n",
      "164/164 [==============================] - 148s 905ms/step - loss: 0.5132 - accuracy: 0.3204 - val_loss: 0.6527 - val_accuracy: 0.2549\n",
      "\n",
      "Epoch 00005: val_accuracy did not improve from 0.26371\n",
      "Epoch 6/30\n",
      "164/164 [==============================] - 149s 906ms/step - loss: 0.4668 - accuracy: 0.3462 - val_loss: 0.6591 - val_accuracy: 0.2637\n",
      "\n",
      "Epoch 00006: val_accuracy improved from 0.26371 to 0.26374, saving model to /content/drive/MyDrive/Transformers/model.h5\n",
      "Epoch 7/30\n",
      "164/164 [==============================] - 148s 900ms/step - loss: 0.4253 - accuracy: 0.3737 - val_loss: 0.6717 - val_accuracy: 0.2629\n",
      "\n",
      "Epoch 00007: val_accuracy did not improve from 0.26374\n",
      "Epoch 8/30\n",
      "164/164 [==============================] - 148s 901ms/step - loss: 0.3890 - accuracy: 0.4029 - val_loss: 0.6878 - val_accuracy: 0.2569\n",
      "\n",
      "Epoch 00008: val_accuracy did not improve from 0.26374\n",
      "Epoch 9/30\n",
      "164/164 [==============================] - 148s 903ms/step - loss: 0.3548 - accuracy: 0.4346 - val_loss: 0.7166 - val_accuracy: 0.2657\n",
      "\n",
      "Epoch 00009: val_accuracy improved from 0.26374 to 0.26569, saving model to /content/drive/MyDrive/Transformers/model.h5\n",
      "Epoch 10/30\n",
      "164/164 [==============================] - 148s 905ms/step - loss: 0.3243 - accuracy: 0.4662 - val_loss: 0.7105 - val_accuracy: 0.2581\n",
      "\n",
      "Epoch 00010: val_accuracy did not improve from 0.26569\n",
      "Epoch 11/30\n",
      "164/164 [==============================] - 148s 905ms/step - loss: 0.2977 - accuracy: 0.4961 - val_loss: 0.7279 - val_accuracy: 0.2538\n",
      "\n",
      "Epoch 00011: val_accuracy did not improve from 0.26569\n",
      "Epoch 12/30\n",
      "164/164 [==============================] - 147s 899ms/step - loss: 0.2695 - accuracy: 0.5300 - val_loss: 0.7478 - val_accuracy: 0.2531\n",
      "\n",
      "Epoch 00012: val_accuracy did not improve from 0.26569\n",
      "Epoch 13/30\n",
      "164/164 [==============================] - 148s 905ms/step - loss: 0.2464 - accuracy: 0.5602 - val_loss: 0.7707 - val_accuracy: 0.2472\n",
      "\n",
      "Epoch 00013: val_accuracy did not improve from 0.26569\n",
      "Epoch 00013: early stopping\n"
     ]
    },
    {
     "data": {
      "text/plain": [
       "<tensorflow.python.keras.callbacks.History at 0x7f46d3271bd0>"
      ]
     },
     "execution_count": 277,
     "metadata": {
      "tags": []
     },
     "output_type": "execute_result"
    }
   ],
   "source": [
    "epochs = 30  # This should be at least 30 for convergence\n",
    "\n",
    "transformer.summary()\n",
    "transformer.compile(\n",
    "    \"adam\", loss=\"sparse_categorical_crossentropy\", metrics=[\"accuracy\"]\n",
    ")\n",
    "transformer.fit(train_ds, epochs=epochs, validation_data=val_ds, callbacks=cbs)"
   ]
  },
  {
   "cell_type": "code",
   "execution_count": 247,
   "id": "8447490b",
   "metadata": {
    "colab": {
     "base_uri": "https://localhost:8080/"
    },
    "id": "8447490b",
    "outputId": "95a7a075-13d9-4500-a08b-49be10b48c97"
   },
   "outputs": [
    {
     "name": "stdout",
     "output_type": "stream",
     "text": [
      "لماذا يسعى الاوربيون الى طريق بحري الى الهند؟ \n",
      " [start] why are not going to leave their seats to a blood [end]\n",
      "**************************************************\n",
      "دمتري اولتشانسكي الصورة من فيسبوك \n",
      " [start] [UNK] on flickr photo by flickr user [end]\n",
      "**************************************************\n",
      "ولد فريق كومابا يوم من اغسطس اب بعد الحفلة السنوية للمنهج التعليمي مقدمة للموسيقى الفنزويلية وامريكا اللاتينية وخرج الفريق من بين الموسيقيين من هذا الفصل وايضا من هولاء الراغبين في لعب الموسيقى الفنزويلية طوال العام جاءت فكرة تدريس الموسيقى الفنزويلية في جامعة يابانية بعد سنة من عمل الاستاذ اشيباشي على نشر الموسيقى الفنزويلية بعيدا عن منشاها الاصلي \n",
      " [start] a mother of the girl from august after the party went to the party of the brazilian artists from his\n",
      "**************************************************\n",
      "أنا أتتطلع لحفلة عيد القديسيين خاصتك. \n",
      " [start] im looking forward to the christmas dinner [end]\n",
      "**************************************************\n",
      "بوليفيا تسمية مدون لرياسة المحكمة الانتخابية الوطنية الاصوات العالمية \n",
      " [start] bolivia new blogger for an election national electoral court global voices [end]\n",
      "**************************************************\n",
      "في شريط فيديو نشره الصحافي مارسيل فورتا على يوتيوب عضو الكونجرس ايفان فالنتي من حزب الاشتراكية والحرية وضح احتجاج السكان الاصليين كوسيلة لضمان الحقوق الدستورية \n",
      " [start] in a video posted a video of the indigenous group of protesters posted by protesters posted on the party of\n",
      "**************************************************\n",
      "وبحلول السابع من ايار مايو من عام اندلعت المواجهات في بيروت وجبل لبنان عقب رد حزب الله وحلفايه على ذلك بهجمات مسلحة على مكاتب تيار المستقبل والحزب التقدمي الاشتراكي وقتل حوالي مية شخص من بينهم مدنيون ما بين السابع من ايار والرابع عشر منه \n",
      " [start] the th of the may from may of the end of the palestinian revolution and party of the party headquarters\n",
      "**************************************************\n",
      "استمتع بوقتك. \n",
      " [start] i know him [end]\n",
      "**************************************************\n",
      "الرام جيجا بايت \n",
      " [start] united nations has been stolen [end]\n",
      "**************************************************\n",
      "المدون جوشوا فاوست ينشر تقرير عن قطار غامض مملوء بمادة السيزيوم ومتجه الى ايران تم ايقافه على الحدود القرغيزية مع اوزبكستان لكن المسوولين القرغيز انتظروا اكثر من اسبوع قبل الكشف عن الحادثة \n",
      " [start] [UNK] [UNK] from the report on the train has been [UNK] train and iran to the end of iran s\n",
      "**************************************************\n",
      "أنت مُسامح. \n",
      " [start] you are a good cook [end]\n",
      "**************************************************\n",
      "هل أنت جاهز؟ \n",
      " [start] are you ready [end]\n",
      "**************************************************\n",
      "ان القسم العلوي يمثل ساحة تيانانمن المزينة بالعام فيظهر تاريخ الاحداث ومكانها على حد سواء بينما تشكل ساحة تيانانمن المضاف اليها خطان عموديان العلامة الصينية للرقم ستة وفوق ذلك يشكل القسم السفلي من الصورة العلامة بمعنى الرقم اربعة فتظهر في الصورة الكاملة العلامة الصينية القديمة ومن سخرية القدر ان تحمل هذه العلامة في استخدامها الراهن على الانترنت معاني حزين و كييب و مغلظ بينما يشير معناه الاصلي الى الشيء اللامع لذلك تنقل هذه الكنزة الرسالة التالية بالرغم من فشل الحركة الاصلية على الرابع من حزيران فانها قد باتت رمزا للجيل الجديد الذي يجتهد من اجل مستقبل لامع وديموقراطي وهذه الحركة مهمة كثيرا بالنسبة لتطوير الديموقراطية الصينية \n",
      " [start] the story of the atomic number of the year old [UNK] and [UNK] of events in the history the [UNK]\n",
      "**************************************************\n",
      "هل أنت ماهر في لعب التنس؟ \n",
      " [start] do you really enjoyed at tennis [end]\n",
      "**************************************************\n",
      "قام مبنى اتش اس بي سي مبنى مالي بارز في مركز هونج كونج بتغيير الوان اضاءته لتصبح الوان قوس قزح اعلانا لدعمه العاملين المثليين المثليات مزدوجي الميول الجنسية ومغايري الجنس المقال من هونج رونج \n",
      " [start] the building of [UNK] [UNK] and three years of mali s largest city s euromaidan protests in the black mauritanians\n",
      "**************************************************\n",
      "وبامكانكم ايضا ارسال اسيلتكم الينا على العنوان التالي \n",
      " [start] you can also help us on the address the next day [end]\n",
      "**************************************************\n",
      "ايران التدوين ضد رهاب المثلية الجنسية الاصوات العالمية \n",
      " [start] iran blogging against blogging against the global voices [end]\n",
      "**************************************************\n",
      "علينا تكرار هذا غدا. \n",
      " [start] we have to pay back tomorrow [end]\n",
      "**************************************************\n",
      "أرني كيف تعمل. \n",
      " [start] show how to the work [end]\n",
      "**************************************************\n",
      "عموماً ، مدّخرات الأفراد في اِزدياد. \n",
      " [start] the wild elephant comes with a teacher [end]\n",
      "**************************************************\n",
      "كان لدى السيدة قصة تستحق المتابعة والنشر ما جذبني اليها كان انها لم تخفي اصابتها بمرض الايدز واعلان ذلك علنا في في مالاوي كان تقريبا من المحرمات الا انها تحدت جميع الصعاب حتى عنجما لم يكن هناك ادوية للايدز بعد ثمان سنوات لا زال من الصعب التخلص من ذلك الصمت الذهبي حول الايدز في مالاوي \n",
      " [start] the new year old girl is worth fighting for the latest case you don t have no longer the same\n",
      "**************************************************\n",
      "وبالفعل بدا بعض مستخدمي موقع فيكونتاكت ملاحظة خدمات التذكير لكن هناك بعض النساء اللواتي لا تتقبلن فكرة انفاق المال على اعلانات الانترنت التي تهدف لتحسين علاقاتهم فمثلا كتبت الينا اوشكوفا على صفحتها في موقع فيكونتاكت تعليقا على موقع اريد زهورا انا افضل ان اشتري لنفسي الزهور على ان انفق اموالي على هذه الخدمة السخيفة \n",
      " [start] i started some netizens from there are a note but it s facebook and the women s an idea to\n",
      "**************************************************\n",
      "اما في حالة رغبتك في الانضمام الينا لكن لا تستطيع ما زالت هناك فرصة لمتابعتنا عبر البث الحي لبعض فقرات برنامجنا يومي و من يوليو تموز كما يمكنك متابعة المقالات التي يكتبها افراد مجتمع الاصوات العالمية ومتحدثينا من خلال موقع الموتمر ومتابعتنا عبر تويتر وفيسبوك \n",
      " [start] the global voices is a new constitution but not been using the past a chance of our chance in their\n",
      "**************************************************\n",
      "لن ينتهي ذلك أبداً. \n",
      " [start] we wont happen [end]\n",
      "**************************************************\n",
      "الدرس الأول سهل. \n",
      " [start] this is easy to be a book [end]\n",
      "**************************************************\n",
      "ما مجال عمل خالتك؟ \n",
      " [start] what the work of the job [end]\n",
      "**************************************************\n",
      "شيد الجسر على يد الروم. \n",
      " [start] the bridge is the hand for a hand in the bridge is the bridge is the bridge at the boat\n",
      "**************************************************\n",
      "لمَ يحدث هذا ثانيةً؟ \n",
      " [start] why is this is that [end]\n",
      "**************************************************\n",
      "عبر مستخدمو الشبكة التايوانيون عن مخاوفهم بخصوص نظام الاغاثة وانذار الكوارث خاصتهم فيما كانت التحديثات الحية عن زلزال اليابان والتسونامي تتوالى على موقع تويتر ونورد فيما يلي مختارات من الاستجابات وردود الفعل الفورية على الحدث والتي ابداها مستخدمو الموقع \n",
      " [start] through the social media platform you know about the national stadium in russia s help them as well as the\n",
      "**************************************************\n",
      "عندما قامت مجموعة من المتظاهرين المصريين باقتحام المقر الرييسي لمبنى امن الدولة في مختلف المدن المصرية لم يكن هدفها اظهار حنقها وغضبها على الموسسة نفسها التي لاتحظى باي شعبية في الشارع المصري لارتباطها بنظام مبارك السابق وانما من اجل اعادة كتابة التاريخ \n",
      " [start] when the group of protesters are the army of the rambo syndrom the state security forces of the arab cities\n",
      "**************************************************\n"
     ]
    }
   ],
   "source": [
    "ar_vocab = ar_vectorization.get_vocabulary()\n",
    "ar_index_lookup = dict(zip(range(len(ar_vocab)), ar_vocab))\n",
    "max_decoded_sentence_length = 20\n",
    "\n",
    "\n",
    "def decode_sequence(input_sentence):\n",
    "    tokenized_input_sentence = eng_vectorization([input_sentence])\n",
    "    decoded_sentence = \"[start]\"\n",
    "    for i in range(max_decoded_sentence_length):\n",
    "        tokenized_target_sentence = ar_vectorization([decoded_sentence])[:, :-1]\n",
    "        predictions = transformer([tokenized_input_sentence, tokenized_target_sentence])\n",
    "\n",
    "        sampled_token_index = np.argmax(predictions[0, i, :])\n",
    "        sampled_token = ar_index_lookup[sampled_token_index]\n",
    "        decoded_sentence += \" \" + sampled_token\n",
    "\n",
    "        if sampled_token == \"[end]\":\n",
    "            break\n",
    "    return decoded_sentence\n",
    "\n",
    "\n",
    "test_eng_texts = [pair[0] for pair in val_pairs]\n",
    "for _ in range(30):\n",
    "    input_sentence = random.choice(test_eng_texts)\n",
    "    translated = decode_sequence(input_sentence)\n",
    "    print(input_sentence, '\\n', translated)\n",
    "    print('*'*50)"
   ]
  },
  {
   "cell_type": "code",
   "execution_count": null,
   "id": "HtSYN8hAG3Zl",
   "metadata": {
    "id": "HtSYN8hAG3Zl"
   },
   "outputs": [],
   "source": []
  }
 ],
 "metadata": {
  "accelerator": "GPU",
  "colab": {
   "name": "simple transformer .ipynb",
   "provenance": []
  },
  "kernelspec": {
   "display_name": "Python 3",
   "language": "python",
   "name": "python3"
  },
  "language_info": {
   "codemirror_mode": {
    "name": "ipython",
    "version": 3
   },
   "file_extension": ".py",
   "mimetype": "text/x-python",
   "name": "python",
   "nbconvert_exporter": "python",
   "pygments_lexer": "ipython3",
   "version": "3.7.1"
  }
 },
 "nbformat": 4,
 "nbformat_minor": 5
}
