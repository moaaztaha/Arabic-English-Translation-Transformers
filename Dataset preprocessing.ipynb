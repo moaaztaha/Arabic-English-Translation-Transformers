{
 "cells": [
  {
   "cell_type": "code",
   "execution_count": 2,
   "metadata": {},
   "outputs": [],
   "source": [
    "import pandas as pd"
   ]
  },
  {
   "cell_type": "code",
   "execution_count": 3,
   "metadata": {},
   "outputs": [
    {
     "name": "stderr",
     "output_type": "stream",
     "text": [
      "/home/kelwa/anaconda3/envs/colab/lib/python3.7/site-packages/ipykernel_launcher.py:1: ParserWarning: Falling back to the 'python' engine because the 'c' engine does not support regex separators (separators > 1 char and different from '\\s+' are interpreted as regex); you can avoid this warning by specifying engine='python'.\n",
      "  \"\"\"Entry point for launching an IPython kernel.\n",
      "/home/kelwa/anaconda3/envs/colab/lib/python3.7/site-packages/ipykernel_launcher.py:2: ParserWarning: Falling back to the 'python' engine because the 'c' engine does not support regex separators (separators > 1 char and different from '\\s+' are interpreted as regex); you can avoid this warning by specifying engine='python'.\n",
      "  \n"
     ]
    }
   ],
   "source": [
    "en = pd.read_table('data/eng/ac-dev.en', delimiter='\\\\n', names=['en'])\n",
    "ar = pd.read_table('data/ara/tune.en_ref.ar', delimiter='\\\\n', names=['ar'])"
   ]
  },
  {
   "cell_type": "code",
   "execution_count": 4,
   "metadata": {},
   "outputs": [
    {
     "data": {
      "text/plain": [
       "((4107, 1), (4107, 1))"
      ]
     },
     "execution_count": 4,
     "metadata": {},
     "output_type": "execute_result"
    }
   ],
   "source": [
    "ar.shape, en.shape"
   ]
  },
  {
   "cell_type": "code",
   "execution_count": 5,
   "metadata": {},
   "outputs": [],
   "source": [
    "#2725 to 3742\n",
    "ar.drop(ar.loc[2725:3742].index,inplace=True)\n",
    "#2720 to 3707\n",
    "en.drop(en.loc[2725:3742].index,inplace=True)"
   ]
  },
  {
   "cell_type": "code",
   "execution_count": 6,
   "metadata": {},
   "outputs": [
    {
     "data": {
      "text/plain": [
       "((3089, 1), (3089, 1))"
      ]
     },
     "execution_count": 6,
     "metadata": {},
     "output_type": "execute_result"
    }
   ],
   "source": [
    "ar.shape, en.shape"
   ]
  },
  {
   "cell_type": "code",
   "execution_count": 7,
   "metadata": {},
   "outputs": [
    {
     "name": "stdout",
     "output_type": "stream",
     "text": [
      "\n",
      "\n",
      "0\n"
     ]
    }
   ],
   "source": [
    "for i in range(en.shape[0]):\n",
    "  if len(en.en.iloc[-i].split()) > 100:\n",
    "    print(en.en.iloc[-i].split('.')[1])\n",
    "    print(ar.ar.iloc[-i].split('.')[1])\n",
    "    print(len(ar.ar.iloc[-i].split('.')[1].split()))\n",
    "    break\n",
    "    print(\"big\")"
   ]
  },
  {
   "cell_type": "code",
   "execution_count": 8,
   "metadata": {},
   "outputs": [],
   "source": [
    "en['ar'] = ar['ar']"
   ]
  },
  {
   "cell_type": "code",
   "execution_count": 9,
   "metadata": {},
   "outputs": [
    {
     "data": {
      "text/html": [
       "<div>\n",
       "<style scoped>\n",
       "    .dataframe tbody tr th:only-of-type {\n",
       "        vertical-align: middle;\n",
       "    }\n",
       "\n",
       "    .dataframe tbody tr th {\n",
       "        vertical-align: top;\n",
       "    }\n",
       "\n",
       "    .dataframe thead th {\n",
       "        text-align: right;\n",
       "    }\n",
       "</style>\n",
       "<table border=\"1\" class=\"dataframe\">\n",
       "  <thead>\n",
       "    <tr style=\"text-align: right;\">\n",
       "      <th></th>\n",
       "      <th>en</th>\n",
       "      <th>ar</th>\n",
       "    </tr>\n",
       "  </thead>\n",
       "  <tbody>\n",
       "    <tr>\n",
       "      <th>0</th>\n",
       "      <td>Having regard to the Treaty establishing the E...</td>\n",
       "      <td>مع الأخذ في الاعتبار المعاهدة التي أنشئت بموجب...</td>\n",
       "    </tr>\n",
       "    <tr>\n",
       "      <th>1</th>\n",
       "      <td>Whereas the progressive establishment of the c...</td>\n",
       "      <td>وحيث أنه لا يجب أن تواجه عملية الإنشاء التدريج...</td>\n",
       "    </tr>\n",
       "    <tr>\n",
       "      <th>2</th>\n",
       "      <td>1. Each Member State shall, by the end of 1962...</td>\n",
       "      <td>1. يتعيّن على كلّ دولة عضو بحلول نهاية العام 1...</td>\n",
       "    </tr>\n",
       "    <tr>\n",
       "      <th>3</th>\n",
       "      <td>4. The two Annexes to this Directive shall for...</td>\n",
       "      <td>4 يشكّل الملحقان المرفقان بهذا التوجيه جزءاً ل...</td>\n",
       "    </tr>\n",
       "    <tr>\n",
       "      <th>4</th>\n",
       "      <td>Article 3</td>\n",
       "      <td>المادة 3</td>\n",
       "    </tr>\n",
       "  </tbody>\n",
       "</table>\n",
       "</div>"
      ],
      "text/plain": [
       "                                                  en  \\\n",
       "0  Having regard to the Treaty establishing the E...   \n",
       "1  Whereas the progressive establishment of the c...   \n",
       "2  1. Each Member State shall, by the end of 1962...   \n",
       "3  4. The two Annexes to this Directive shall for...   \n",
       "4                                          Article 3   \n",
       "\n",
       "                                                  ar  \n",
       "0  مع الأخذ في الاعتبار المعاهدة التي أنشئت بموجب...  \n",
       "1  وحيث أنه لا يجب أن تواجه عملية الإنشاء التدريج...  \n",
       "2  1. يتعيّن على كلّ دولة عضو بحلول نهاية العام 1...  \n",
       "3  4 يشكّل الملحقان المرفقان بهذا التوجيه جزءاً ل...  \n",
       "4                                           المادة 3  "
      ]
     },
     "execution_count": 9,
     "metadata": {},
     "output_type": "execute_result"
    }
   ],
   "source": [
    "df = en.copy()\n",
    "df.head()"
   ]
  },
  {
   "cell_type": "code",
   "execution_count": 10,
   "metadata": {},
   "outputs": [
    {
     "data": {
      "text/html": [
       "<div>\n",
       "<style scoped>\n",
       "    .dataframe tbody tr th:only-of-type {\n",
       "        vertical-align: middle;\n",
       "    }\n",
       "\n",
       "    .dataframe tbody tr th {\n",
       "        vertical-align: top;\n",
       "    }\n",
       "\n",
       "    .dataframe thead th {\n",
       "        text-align: right;\n",
       "    }\n",
       "</style>\n",
       "<table border=\"1\" class=\"dataframe\">\n",
       "  <thead>\n",
       "    <tr style=\"text-align: right;\">\n",
       "      <th></th>\n",
       "      <th>en</th>\n",
       "      <th>ar</th>\n",
       "    </tr>\n",
       "  </thead>\n",
       "  <tbody>\n",
       "    <tr>\n",
       "      <th>4102</th>\n",
       "      <td>Whereas:</td>\n",
       "      <td>حيث إن:</td>\n",
       "    </tr>\n",
       "    <tr>\n",
       "      <th>4103</th>\n",
       "      <td>(3) The measures provided for in this Regulati...</td>\n",
       "      <td>(3) تتوافق التدابير المنصوص عليها في هذه اللائ...</td>\n",
       "    </tr>\n",
       "    <tr>\n",
       "      <th>4104</th>\n",
       "      <td>1. The following derogations from the provisio...</td>\n",
       "      <td>1. تُمنح الاستثناءات التالية من أحكام اللائحة ...</td>\n",
       "    </tr>\n",
       "    <tr>\n",
       "      <th>4105</th>\n",
       "      <td>(c) Luxembourg is granted derogations for the ...</td>\n",
       "      <td>(ج) يتم منح لوكسمبورغ استثناءات لإنتاج النتائج...</td>\n",
       "    </tr>\n",
       "    <tr>\n",
       "      <th>4106</th>\n",
       "      <td>Article 2</td>\n",
       "      <td>المادة 2</td>\n",
       "    </tr>\n",
       "  </tbody>\n",
       "</table>\n",
       "</div>"
      ],
      "text/plain": [
       "                                                     en  \\\n",
       "4102                                           Whereas:   \n",
       "4103  (3) The measures provided for in this Regulati...   \n",
       "4104  1. The following derogations from the provisio...   \n",
       "4105  (c) Luxembourg is granted derogations for the ...   \n",
       "4106                                          Article 2   \n",
       "\n",
       "                                                     ar  \n",
       "4102                                            حيث إن:  \n",
       "4103  (3) تتوافق التدابير المنصوص عليها في هذه اللائ...  \n",
       "4104  1. تُمنح الاستثناءات التالية من أحكام اللائحة ...  \n",
       "4105  (ج) يتم منح لوكسمبورغ استثناءات لإنتاج النتائج...  \n",
       "4106                                           المادة 2  "
      ]
     },
     "execution_count": 10,
     "metadata": {},
     "output_type": "execute_result"
    }
   ],
   "source": [
    "df.tail()"
   ]
  },
  {
   "cell_type": "code",
   "execution_count": 11,
   "metadata": {},
   "outputs": [],
   "source": [
    "text_pairs = []\n",
    "for idx, row in df.iterrows():\n",
    "    # split sentences\n",
    "    if '.' in row['en'] and '.' in row['ar'] and len(row['en'].split()) > 100:\n",
    "        en_sents = row['en'].split('.')\n",
    "        ar_sents = row['ar'].split('.')\n",
    "    \n",
    "        for en_sent, ar_sent in zip(en_sents, ar_sents):\n",
    "            ar_sent = \"[start] \" + ar_sent + \" [end]\"\n",
    "            text_pairs.append((en_sent, ar))\n",
    "    else:\n",
    "        en, ar = row['en'], row['ar']\n",
    "        ar = \"[start] \" + ar + \" [end]\"\n",
    "        text_pairs.append((en, ar))"
   ]
  },
  {
   "cell_type": "code",
   "execution_count": 12,
   "metadata": {},
   "outputs": [],
   "source": [
    "import random"
   ]
  },
  {
   "cell_type": "code",
   "execution_count": 18,
   "metadata": {},
   "outputs": [
    {
     "name": "stdout",
     "output_type": "stream",
     "text": [
      "('Whereas, pursuant to the said general rules, the goods described in column 1 of the table annexed to the present Regulation must be classified within the appropriate CN codes indicated in column 2, by virtue of the reasons set out in column 3;', '[start] حيث وفقا للقواعد العامة المذكورة، تصنف السلع لموصوفة في العمود 1 من الجدول المرفق بهذه اللائحة ضمن رموز CN المناسبة والمشار إليها في العمود 2، بحكم الأسباب المذكورة في العمود 3؛ [end]')\n"
     ]
    }
   ],
   "source": [
    "for _ in range(1):\n",
    "    print(random.choice(text_pairs))"
   ]
  },
  {
   "cell_type": "code",
   "execution_count": 102,
   "metadata": {},
   "outputs": [
    {
     "data": {
      "text/plain": [
       "4262"
      ]
     },
     "execution_count": 102,
     "metadata": {},
     "output_type": "execute_result"
    }
   ],
   "source": [
    "len(text_pairs)"
   ]
  },
  {
   "cell_type": "code",
   "execution_count": null,
   "metadata": {},
   "outputs": [],
   "source": []
  }
 ],
 "metadata": {
  "kernelspec": {
   "display_name": "Python 3",
   "language": "python",
   "name": "python3"
  },
  "language_info": {
   "codemirror_mode": {
    "name": "ipython",
    "version": 3
   },
   "file_extension": ".py",
   "mimetype": "text/x-python",
   "name": "python",
   "nbconvert_exporter": "python",
   "pygments_lexer": "ipython3",
   "version": "3.7.1"
  }
 },
 "nbformat": 4,
 "nbformat_minor": 4
}
